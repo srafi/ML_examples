{
 "cells": [
  {
   "cell_type": "markdown",
   "metadata": {},
   "source": [
    "# Change of Primary Care Physician"
   ]
  },
  {
   "cell_type": "markdown",
   "metadata": {},
   "source": [
    "An insurance provider (US based) offers health insurance to customers. The provider assigns a PCP(primary care physician) to each customer. The PCP addresses most health concerns of the customers assigned to them.  For various reasons, customers want change of PCP. It involves significant effort for the provider whenever the customer makes a change of PCP. "
   ]
  },
  {
   "cell_type": "markdown",
   "metadata": {},
   "source": [
    "You will find a subset of the insurance provider data along with PCP changes. The provider likes to understand why are members likely to leave the recommended provider. Further, they like to recommend a provider to them that they are less likely to leave."
   ]
  },
  {
   "cell_type": "markdown",
   "metadata": {},
   "source": [
    "## Import require modules"
   ]
  },
  {
   "cell_type": "code",
   "execution_count": 113,
   "metadata": {},
   "outputs": [],
   "source": [
    "import numpy as np\n",
    "import pandas as pd\n",
    "import matplotlib.pyplot as plt\n",
    "import seaborn as sns\n",
    "\n",
    "import statsmodels.api as sm\n",
    "\n",
    "from sklearn.model_selection import train_test_split\n",
    "\n",
    "from sklearn.preprocessing import StandardScaler\n",
    "from statsmodels.stats.outliers_influence import variance_inflation_factor\n",
    "\n",
    "from sklearn.linear_model import LogisticRegression\n",
    "from sklearn.feature_selection import RFE\n",
    "\n",
    "from sklearn import metrics"
   ]
  },
  {
   "cell_type": "code",
   "execution_count": 114,
   "metadata": {},
   "outputs": [],
   "source": [
    "df = pd.read_csv(\"DataSet_PCP_Change.csv\")"
   ]
  },
  {
   "cell_type": "code",
   "execution_count": 115,
   "metadata": {},
   "outputs": [
    {
     "data": {
      "text/html": [
       "<div>\n",
       "<style scoped>\n",
       "    .dataframe tbody tr th:only-of-type {\n",
       "        vertical-align: middle;\n",
       "    }\n",
       "\n",
       "    .dataframe tbody tr th {\n",
       "        vertical-align: top;\n",
       "    }\n",
       "\n",
       "    .dataframe thead th {\n",
       "        text-align: right;\n",
       "    }\n",
       "</style>\n",
       "<table border=\"1\" class=\"dataframe\">\n",
       "  <thead>\n",
       "    <tr style=\"text-align: right;\">\n",
       "      <th></th>\n",
       "      <th>testindex</th>\n",
       "      <th>outcome</th>\n",
       "      <th>distance</th>\n",
       "      <th>visit_count</th>\n",
       "      <th>claims_daysaway</th>\n",
       "      <th>tier</th>\n",
       "      <th>fqhc</th>\n",
       "      <th>pcp_lookback</th>\n",
       "      <th>family_assignment</th>\n",
       "      <th>kid</th>\n",
       "      <th>is_ped</th>\n",
       "      <th>same_gender</th>\n",
       "      <th>same_language</th>\n",
       "      <th>same_address</th>\n",
       "    </tr>\n",
       "  </thead>\n",
       "  <tbody>\n",
       "    <tr>\n",
       "      <th>0</th>\n",
       "      <td>0</td>\n",
       "      <td>0</td>\n",
       "      <td>0.071912</td>\n",
       "      <td>0</td>\n",
       "      <td>NaN</td>\n",
       "      <td>2.0</td>\n",
       "      <td>0</td>\n",
       "      <td>0</td>\n",
       "      <td>0</td>\n",
       "      <td>0</td>\n",
       "      <td>0</td>\n",
       "      <td>1</td>\n",
       "      <td>0</td>\n",
       "      <td>0</td>\n",
       "    </tr>\n",
       "    <tr>\n",
       "      <th>1</th>\n",
       "      <td>2</td>\n",
       "      <td>0</td>\n",
       "      <td>0.448447</td>\n",
       "      <td>0</td>\n",
       "      <td>NaN</td>\n",
       "      <td>1.0</td>\n",
       "      <td>0</td>\n",
       "      <td>0</td>\n",
       "      <td>1</td>\n",
       "      <td>1</td>\n",
       "      <td>1</td>\n",
       "      <td>0</td>\n",
       "      <td>0</td>\n",
       "      <td>0</td>\n",
       "    </tr>\n",
       "    <tr>\n",
       "      <th>2</th>\n",
       "      <td>5</td>\n",
       "      <td>0</td>\n",
       "      <td>0.345793</td>\n",
       "      <td>0</td>\n",
       "      <td>NaN</td>\n",
       "      <td>1.0</td>\n",
       "      <td>0</td>\n",
       "      <td>1</td>\n",
       "      <td>0</td>\n",
       "      <td>0</td>\n",
       "      <td>0</td>\n",
       "      <td>1</td>\n",
       "      <td>0</td>\n",
       "      <td>0</td>\n",
       "    </tr>\n",
       "    <tr>\n",
       "      <th>3</th>\n",
       "      <td>6</td>\n",
       "      <td>0</td>\n",
       "      <td>1.857032</td>\n",
       "      <td>0</td>\n",
       "      <td>NaN</td>\n",
       "      <td>1.0</td>\n",
       "      <td>0</td>\n",
       "      <td>0</td>\n",
       "      <td>1</td>\n",
       "      <td>1</td>\n",
       "      <td>1</td>\n",
       "      <td>1</td>\n",
       "      <td>0</td>\n",
       "      <td>0</td>\n",
       "    </tr>\n",
       "    <tr>\n",
       "      <th>4</th>\n",
       "      <td>7</td>\n",
       "      <td>1</td>\n",
       "      <td>7.222060</td>\n",
       "      <td>0</td>\n",
       "      <td>NaN</td>\n",
       "      <td>1.0</td>\n",
       "      <td>0</td>\n",
       "      <td>0</td>\n",
       "      <td>1</td>\n",
       "      <td>1</td>\n",
       "      <td>0</td>\n",
       "      <td>0</td>\n",
       "      <td>0</td>\n",
       "      <td>0</td>\n",
       "    </tr>\n",
       "  </tbody>\n",
       "</table>\n",
       "</div>"
      ],
      "text/plain": [
       "   testindex  outcome  distance  visit_count  claims_daysaway  tier  fqhc  \\\n",
       "0          0        0  0.071912            0              NaN   2.0     0   \n",
       "1          2        0  0.448447            0              NaN   1.0     0   \n",
       "2          5        0  0.345793            0              NaN   1.0     0   \n",
       "3          6        0  1.857032            0              NaN   1.0     0   \n",
       "4          7        1  7.222060            0              NaN   1.0     0   \n",
       "\n",
       "   pcp_lookback  family_assignment  kid  is_ped  same_gender  same_language  \\\n",
       "0             0                  0    0       0            1              0   \n",
       "1             0                  1    1       1            0              0   \n",
       "2             1                  0    0       0            1              0   \n",
       "3             0                  1    1       1            1              0   \n",
       "4             0                  1    1       0            0              0   \n",
       "\n",
       "   same_address  \n",
       "0             0  \n",
       "1             0  \n",
       "2             0  \n",
       "3             0  \n",
       "4             0  "
      ]
     },
     "execution_count": 115,
     "metadata": {},
     "output_type": "execute_result"
    }
   ],
   "source": [
    "df.head()"
   ]
  },
  {
   "cell_type": "code",
   "execution_count": 116,
   "metadata": {},
   "outputs": [
    {
     "name": "stdout",
     "output_type": "stream",
     "text": [
      "<class 'pandas.core.frame.DataFrame'>\n",
      "RangeIndex: 3130 entries, 0 to 3129\n",
      "Data columns (total 14 columns):\n",
      " #   Column             Non-Null Count  Dtype  \n",
      "---  ------             --------------  -----  \n",
      " 0   testindex          3130 non-null   int64  \n",
      " 1   outcome            3130 non-null   int64  \n",
      " 2   distance           3130 non-null   float64\n",
      " 3   visit_count        3130 non-null   int64  \n",
      " 4   claims_daysaway    556 non-null    float64\n",
      " 5   tier               3121 non-null   float64\n",
      " 6   fqhc               3130 non-null   int64  \n",
      " 7   pcp_lookback       3130 non-null   int64  \n",
      " 8   family_assignment  3130 non-null   int64  \n",
      " 9   kid                3130 non-null   int64  \n",
      " 10  is_ped             3130 non-null   int64  \n",
      " 11  same_gender        3130 non-null   int64  \n",
      " 12  same_language      3130 non-null   int64  \n",
      " 13  same_address       3130 non-null   int64  \n",
      "dtypes: float64(3), int64(11)\n",
      "memory usage: 342.5 KB\n"
     ]
    }
   ],
   "source": [
    "df.info()"
   ]
  },
  {
   "cell_type": "code",
   "execution_count": 117,
   "metadata": {},
   "outputs": [
    {
     "data": {
      "text/html": [
       "<div>\n",
       "<style scoped>\n",
       "    .dataframe tbody tr th:only-of-type {\n",
       "        vertical-align: middle;\n",
       "    }\n",
       "\n",
       "    .dataframe tbody tr th {\n",
       "        vertical-align: top;\n",
       "    }\n",
       "\n",
       "    .dataframe thead th {\n",
       "        text-align: right;\n",
       "    }\n",
       "</style>\n",
       "<table border=\"1\" class=\"dataframe\">\n",
       "  <thead>\n",
       "    <tr style=\"text-align: right;\">\n",
       "      <th></th>\n",
       "      <th>testindex</th>\n",
       "      <th>outcome</th>\n",
       "      <th>distance</th>\n",
       "      <th>visit_count</th>\n",
       "      <th>claims_daysaway</th>\n",
       "      <th>tier</th>\n",
       "      <th>fqhc</th>\n",
       "      <th>pcp_lookback</th>\n",
       "      <th>family_assignment</th>\n",
       "      <th>kid</th>\n",
       "      <th>is_ped</th>\n",
       "      <th>same_gender</th>\n",
       "      <th>same_language</th>\n",
       "      <th>same_address</th>\n",
       "    </tr>\n",
       "  </thead>\n",
       "  <tbody>\n",
       "    <tr>\n",
       "      <th>count</th>\n",
       "      <td>3130.000000</td>\n",
       "      <td>3130.000000</td>\n",
       "      <td>3130.000000</td>\n",
       "      <td>3130.000000</td>\n",
       "      <td>556.000000</td>\n",
       "      <td>3121.000000</td>\n",
       "      <td>3130.000000</td>\n",
       "      <td>3130.000000</td>\n",
       "      <td>3130.000000</td>\n",
       "      <td>3130.000000</td>\n",
       "      <td>3130.000000</td>\n",
       "      <td>3130.000000</td>\n",
       "      <td>3130.000000</td>\n",
       "      <td>3130.000000</td>\n",
       "    </tr>\n",
       "    <tr>\n",
       "      <th>mean</th>\n",
       "      <td>2519.981789</td>\n",
       "      <td>0.040575</td>\n",
       "      <td>2.851791</td>\n",
       "      <td>1.074121</td>\n",
       "      <td>135.330935</td>\n",
       "      <td>1.814803</td>\n",
       "      <td>0.192332</td>\n",
       "      <td>0.442173</td>\n",
       "      <td>0.341853</td>\n",
       "      <td>0.376997</td>\n",
       "      <td>0.392332</td>\n",
       "      <td>0.511821</td>\n",
       "      <td>0.064856</td>\n",
       "      <td>0.065495</td>\n",
       "    </tr>\n",
       "    <tr>\n",
       "      <th>std</th>\n",
       "      <td>1439.130702</td>\n",
       "      <td>0.197335</td>\n",
       "      <td>5.797008</td>\n",
       "      <td>3.160802</td>\n",
       "      <td>121.441560</td>\n",
       "      <td>0.991786</td>\n",
       "      <td>0.394196</td>\n",
       "      <td>0.496724</td>\n",
       "      <td>0.474406</td>\n",
       "      <td>0.484712</td>\n",
       "      <td>0.488348</td>\n",
       "      <td>0.499940</td>\n",
       "      <td>0.246311</td>\n",
       "      <td>0.247437</td>\n",
       "    </tr>\n",
       "    <tr>\n",
       "      <th>min</th>\n",
       "      <td>0.000000</td>\n",
       "      <td>0.000000</td>\n",
       "      <td>0.000000</td>\n",
       "      <td>0.000000</td>\n",
       "      <td>0.000000</td>\n",
       "      <td>1.000000</td>\n",
       "      <td>0.000000</td>\n",
       "      <td>0.000000</td>\n",
       "      <td>0.000000</td>\n",
       "      <td>0.000000</td>\n",
       "      <td>0.000000</td>\n",
       "      <td>0.000000</td>\n",
       "      <td>0.000000</td>\n",
       "      <td>0.000000</td>\n",
       "    </tr>\n",
       "    <tr>\n",
       "      <th>25%</th>\n",
       "      <td>1271.250000</td>\n",
       "      <td>0.000000</td>\n",
       "      <td>0.466053</td>\n",
       "      <td>0.000000</td>\n",
       "      <td>49.000000</td>\n",
       "      <td>1.000000</td>\n",
       "      <td>0.000000</td>\n",
       "      <td>0.000000</td>\n",
       "      <td>0.000000</td>\n",
       "      <td>0.000000</td>\n",
       "      <td>0.000000</td>\n",
       "      <td>0.000000</td>\n",
       "      <td>0.000000</td>\n",
       "      <td>0.000000</td>\n",
       "    </tr>\n",
       "    <tr>\n",
       "      <th>50%</th>\n",
       "      <td>2520.500000</td>\n",
       "      <td>0.000000</td>\n",
       "      <td>1.015903</td>\n",
       "      <td>0.000000</td>\n",
       "      <td>100.500000</td>\n",
       "      <td>1.000000</td>\n",
       "      <td>0.000000</td>\n",
       "      <td>0.000000</td>\n",
       "      <td>0.000000</td>\n",
       "      <td>0.000000</td>\n",
       "      <td>0.000000</td>\n",
       "      <td>1.000000</td>\n",
       "      <td>0.000000</td>\n",
       "      <td>0.000000</td>\n",
       "    </tr>\n",
       "    <tr>\n",
       "      <th>75%</th>\n",
       "      <td>3769.750000</td>\n",
       "      <td>0.000000</td>\n",
       "      <td>2.195092</td>\n",
       "      <td>0.000000</td>\n",
       "      <td>185.000000</td>\n",
       "      <td>2.000000</td>\n",
       "      <td>0.000000</td>\n",
       "      <td>1.000000</td>\n",
       "      <td>1.000000</td>\n",
       "      <td>1.000000</td>\n",
       "      <td>1.000000</td>\n",
       "      <td>1.000000</td>\n",
       "      <td>0.000000</td>\n",
       "      <td>0.000000</td>\n",
       "    </tr>\n",
       "    <tr>\n",
       "      <th>90%</th>\n",
       "      <td>4515.100000</td>\n",
       "      <td>0.000000</td>\n",
       "      <td>7.031573</td>\n",
       "      <td>4.000000</td>\n",
       "      <td>291.500000</td>\n",
       "      <td>3.000000</td>\n",
       "      <td>1.000000</td>\n",
       "      <td>1.000000</td>\n",
       "      <td>1.000000</td>\n",
       "      <td>1.000000</td>\n",
       "      <td>1.000000</td>\n",
       "      <td>1.000000</td>\n",
       "      <td>0.000000</td>\n",
       "      <td>0.000000</td>\n",
       "    </tr>\n",
       "    <tr>\n",
       "      <th>95%</th>\n",
       "      <td>4750.550000</td>\n",
       "      <td>0.000000</td>\n",
       "      <td>11.860081</td>\n",
       "      <td>7.000000</td>\n",
       "      <td>401.250000</td>\n",
       "      <td>4.000000</td>\n",
       "      <td>1.000000</td>\n",
       "      <td>1.000000</td>\n",
       "      <td>1.000000</td>\n",
       "      <td>1.000000</td>\n",
       "      <td>1.000000</td>\n",
       "      <td>1.000000</td>\n",
       "      <td>1.000000</td>\n",
       "      <td>1.000000</td>\n",
       "    </tr>\n",
       "    <tr>\n",
       "      <th>99%</th>\n",
       "      <td>4947.710000</td>\n",
       "      <td>1.000000</td>\n",
       "      <td>29.815444</td>\n",
       "      <td>14.710000</td>\n",
       "      <td>568.800000</td>\n",
       "      <td>4.000000</td>\n",
       "      <td>1.000000</td>\n",
       "      <td>1.000000</td>\n",
       "      <td>1.000000</td>\n",
       "      <td>1.000000</td>\n",
       "      <td>1.000000</td>\n",
       "      <td>1.000000</td>\n",
       "      <td>1.000000</td>\n",
       "      <td>1.000000</td>\n",
       "    </tr>\n",
       "    <tr>\n",
       "      <th>max</th>\n",
       "      <td>5000.000000</td>\n",
       "      <td>1.000000</td>\n",
       "      <td>50.000000</td>\n",
       "      <td>36.000000</td>\n",
       "      <td>736.000000</td>\n",
       "      <td>4.000000</td>\n",
       "      <td>1.000000</td>\n",
       "      <td>1.000000</td>\n",
       "      <td>1.000000</td>\n",
       "      <td>1.000000</td>\n",
       "      <td>1.000000</td>\n",
       "      <td>1.000000</td>\n",
       "      <td>1.000000</td>\n",
       "      <td>1.000000</td>\n",
       "    </tr>\n",
       "  </tbody>\n",
       "</table>\n",
       "</div>"
      ],
      "text/plain": [
       "         testindex      outcome     distance  visit_count  claims_daysaway  \\\n",
       "count  3130.000000  3130.000000  3130.000000  3130.000000       556.000000   \n",
       "mean   2519.981789     0.040575     2.851791     1.074121       135.330935   \n",
       "std    1439.130702     0.197335     5.797008     3.160802       121.441560   \n",
       "min       0.000000     0.000000     0.000000     0.000000         0.000000   \n",
       "25%    1271.250000     0.000000     0.466053     0.000000        49.000000   \n",
       "50%    2520.500000     0.000000     1.015903     0.000000       100.500000   \n",
       "75%    3769.750000     0.000000     2.195092     0.000000       185.000000   \n",
       "90%    4515.100000     0.000000     7.031573     4.000000       291.500000   \n",
       "95%    4750.550000     0.000000    11.860081     7.000000       401.250000   \n",
       "99%    4947.710000     1.000000    29.815444    14.710000       568.800000   \n",
       "max    5000.000000     1.000000    50.000000    36.000000       736.000000   \n",
       "\n",
       "              tier         fqhc  pcp_lookback  family_assignment          kid  \\\n",
       "count  3121.000000  3130.000000   3130.000000        3130.000000  3130.000000   \n",
       "mean      1.814803     0.192332      0.442173           0.341853     0.376997   \n",
       "std       0.991786     0.394196      0.496724           0.474406     0.484712   \n",
       "min       1.000000     0.000000      0.000000           0.000000     0.000000   \n",
       "25%       1.000000     0.000000      0.000000           0.000000     0.000000   \n",
       "50%       1.000000     0.000000      0.000000           0.000000     0.000000   \n",
       "75%       2.000000     0.000000      1.000000           1.000000     1.000000   \n",
       "90%       3.000000     1.000000      1.000000           1.000000     1.000000   \n",
       "95%       4.000000     1.000000      1.000000           1.000000     1.000000   \n",
       "99%       4.000000     1.000000      1.000000           1.000000     1.000000   \n",
       "max       4.000000     1.000000      1.000000           1.000000     1.000000   \n",
       "\n",
       "            is_ped  same_gender  same_language  same_address  \n",
       "count  3130.000000  3130.000000    3130.000000   3130.000000  \n",
       "mean      0.392332     0.511821       0.064856      0.065495  \n",
       "std       0.488348     0.499940       0.246311      0.247437  \n",
       "min       0.000000     0.000000       0.000000      0.000000  \n",
       "25%       0.000000     0.000000       0.000000      0.000000  \n",
       "50%       0.000000     1.000000       0.000000      0.000000  \n",
       "75%       1.000000     1.000000       0.000000      0.000000  \n",
       "90%       1.000000     1.000000       0.000000      0.000000  \n",
       "95%       1.000000     1.000000       1.000000      1.000000  \n",
       "99%       1.000000     1.000000       1.000000      1.000000  \n",
       "max       1.000000     1.000000       1.000000      1.000000  "
      ]
     },
     "execution_count": 117,
     "metadata": {},
     "output_type": "execute_result"
    }
   ],
   "source": [
    "df.describe(percentiles=[0.25,0.5,0.75,0.9,0.95,0.99])"
   ]
  },
  {
   "cell_type": "code",
   "execution_count": 118,
   "metadata": {},
   "outputs": [
    {
     "data": {
      "text/plain": [
       "(3130, 14)"
      ]
     },
     "execution_count": 118,
     "metadata": {},
     "output_type": "execute_result"
    }
   ],
   "source": [
    "df.shape"
   ]
  },
  {
   "cell_type": "code",
   "execution_count": 119,
   "metadata": {},
   "outputs": [
    {
     "data": {
      "text/plain": [
       "<AxesSubplot:ylabel='distance'>"
      ]
     },
     "execution_count": 119,
     "metadata": {},
     "output_type": "execute_result"
    },
    {
     "data": {
      "image/png": "[encoded data removed]",
      "text/plain": [
       "<Figure size 432x288 with 1 Axes>"
      ]
     },
     "metadata": {
      "needs_background": "light"
     },
     "output_type": "display_data"
    }
   ],
   "source": [
    "sns.boxplot(y = df['distance'])"
   ]
  },
  {
   "cell_type": "code",
   "execution_count": 120,
   "metadata": {},
   "outputs": [
    {
     "name": "stdout",
     "output_type": "stream",
     "text": [
      "shape : (3130, 14)\n",
      "shape :  (3097, 14)\n"
     ]
    }
   ],
   "source": [
    "Q1 = df['distance'].quantile(0.05)\n",
    "Q3 = df['distance'].quantile(0.95)\n",
    "IQR = Q3-Q1\n",
    "print(\"shape :\",df.shape)\n",
    "df = df[(df.distance>= Q1-1.5*IQR) & (df.distance<= Q3+1.5*IQR)]\n",
    "print(\"shape : \",df.shape)"
   ]
  },
  {
   "cell_type": "code",
   "execution_count": 121,
   "metadata": {},
   "outputs": [
    {
     "data": {
      "text/plain": [
       "<AxesSubplot:ylabel='distance'>"
      ]
     },
     "execution_count": 121,
     "metadata": {},
     "output_type": "execute_result"
    },
    {
     "data": {
      "image/png": "[encoded data removed]",
      "text/plain": [
       "<Figure size 432x288 with 1 Axes>"
      ]
     },
     "metadata": {
      "needs_background": "light"
     },
     "output_type": "display_data"
    }
   ],
   "source": [
    "sns.boxplot(y = df['distance'])"
   ]
  },
  {
   "cell_type": "code",
   "execution_count": 122,
   "metadata": {},
   "outputs": [
    {
     "data": {
      "text/plain": [
       "<AxesSubplot:ylabel='visit_count'>"
      ]
     },
     "execution_count": 122,
     "metadata": {},
     "output_type": "execute_result"
    },
    {
     "data": {
      "image/png": "[encoded data removed]",
      "text/plain": [
       "<Figure size 432x288 with 1 Axes>"
      ]
     },
     "metadata": {
      "needs_background": "light"
     },
     "output_type": "display_data"
    }
   ],
   "source": [
    "sns.boxplot(y = df['visit_count'])"
   ]
  },
  {
   "cell_type": "code",
   "execution_count": 123,
   "metadata": {},
   "outputs": [
    {
     "name": "stdout",
     "output_type": "stream",
     "text": [
      "shape : (3097, 14)\n",
      "shape :  (3079, 14)\n"
     ]
    }
   ],
   "source": [
    "Q1 = df['visit_count'].quantile(0.05)\n",
    "Q3 = df['visit_count'].quantile(0.95)\n",
    "IQR = Q3-Q1\n",
    "print(\"shape :\",df.shape)\n",
    "df = df[(df.visit_count>= Q1-1.5*IQR) & (df.visit_count<= Q3+1.5*IQR)]\n",
    "print(\"shape : \",df.shape)"
   ]
  },
  {
   "cell_type": "code",
   "execution_count": 124,
   "metadata": {},
   "outputs": [
    {
     "data": {
      "text/plain": [
       "<AxesSubplot:ylabel='visit_count'>"
      ]
     },
     "execution_count": 124,
     "metadata": {},
     "output_type": "execute_result"
    },
    {
     "data": {
      "image/png": "[encoded data removed]",
      "text/plain": [
       "<Figure size 432x288 with 1 Axes>"
      ]
     },
     "metadata": {
      "needs_background": "light"
     },
     "output_type": "display_data"
    }
   ],
   "source": [
    "sns.boxplot(y = df['visit_count'])"
   ]
  },
  {
   "cell_type": "code",
   "execution_count": 125,
   "metadata": {},
   "outputs": [
    {
     "data": {
      "text/plain": [
       "testindex               0\n",
       "outcome                 0\n",
       "distance                0\n",
       "visit_count             0\n",
       "claims_daysaway      2552\n",
       "tier                    9\n",
       "fqhc                    0\n",
       "pcp_lookback            0\n",
       "family_assignment       0\n",
       "kid                     0\n",
       "is_ped                  0\n",
       "same_gender             0\n",
       "same_language           0\n",
       "same_address            0\n",
       "dtype: int64"
      ]
     },
     "execution_count": 125,
     "metadata": {},
     "output_type": "execute_result"
    }
   ],
   "source": [
    "df.isnull().sum()"
   ]
  },
  {
   "cell_type": "code",
   "execution_count": 126,
   "metadata": {},
   "outputs": [],
   "source": [
    "df.dropna(subset=['tier'], inplace= True)"
   ]
  },
  {
   "cell_type": "code",
   "execution_count": 127,
   "metadata": {},
   "outputs": [
    {
     "data": {
      "text/plain": [
       "testindex               0\n",
       "outcome                 0\n",
       "distance                0\n",
       "visit_count             0\n",
       "claims_daysaway      2546\n",
       "tier                    0\n",
       "fqhc                    0\n",
       "pcp_lookback            0\n",
       "family_assignment       0\n",
       "kid                     0\n",
       "is_ped                  0\n",
       "same_gender             0\n",
       "same_language           0\n",
       "same_address            0\n",
       "dtype: int64"
      ]
     },
     "execution_count": 127,
     "metadata": {},
     "output_type": "execute_result"
    }
   ],
   "source": [
    "df.isnull().sum()"
   ]
  },
  {
   "cell_type": "code",
   "execution_count": 128,
   "metadata": {},
   "outputs": [],
   "source": [
    "# having more null values, droping of 'claims_daysaway' columns\n",
    "df.drop(['claims_daysaway'], axis=1, inplace= True)"
   ]
  },
  {
   "cell_type": "code",
   "execution_count": 129,
   "metadata": {},
   "outputs": [
    {
     "data": {
      "text/html": [
       "<div>\n",
       "<style scoped>\n",
       "    .dataframe tbody tr th:only-of-type {\n",
       "        vertical-align: middle;\n",
       "    }\n",
       "\n",
       "    .dataframe tbody tr th {\n",
       "        vertical-align: top;\n",
       "    }\n",
       "\n",
       "    .dataframe thead th {\n",
       "        text-align: right;\n",
       "    }\n",
       "</style>\n",
       "<table border=\"1\" class=\"dataframe\">\n",
       "  <thead>\n",
       "    <tr style=\"text-align: right;\">\n",
       "      <th></th>\n",
       "      <th>testindex</th>\n",
       "      <th>outcome</th>\n",
       "      <th>distance</th>\n",
       "      <th>visit_count</th>\n",
       "      <th>tier</th>\n",
       "      <th>fqhc</th>\n",
       "      <th>pcp_lookback</th>\n",
       "      <th>family_assignment</th>\n",
       "      <th>kid</th>\n",
       "      <th>is_ped</th>\n",
       "      <th>same_gender</th>\n",
       "      <th>same_language</th>\n",
       "      <th>same_address</th>\n",
       "    </tr>\n",
       "  </thead>\n",
       "  <tbody>\n",
       "    <tr>\n",
       "      <th>0</th>\n",
       "      <td>0</td>\n",
       "      <td>0</td>\n",
       "      <td>0.071912</td>\n",
       "      <td>0</td>\n",
       "      <td>2.0</td>\n",
       "      <td>0</td>\n",
       "      <td>0</td>\n",
       "      <td>0</td>\n",
       "      <td>0</td>\n",
       "      <td>0</td>\n",
       "      <td>1</td>\n",
       "      <td>0</td>\n",
       "      <td>0</td>\n",
       "    </tr>\n",
       "    <tr>\n",
       "      <th>1</th>\n",
       "      <td>2</td>\n",
       "      <td>0</td>\n",
       "      <td>0.448447</td>\n",
       "      <td>0</td>\n",
       "      <td>1.0</td>\n",
       "      <td>0</td>\n",
       "      <td>0</td>\n",
       "      <td>1</td>\n",
       "      <td>1</td>\n",
       "      <td>1</td>\n",
       "      <td>0</td>\n",
       "      <td>0</td>\n",
       "      <td>0</td>\n",
       "    </tr>\n",
       "    <tr>\n",
       "      <th>2</th>\n",
       "      <td>5</td>\n",
       "      <td>0</td>\n",
       "      <td>0.345793</td>\n",
       "      <td>0</td>\n",
       "      <td>1.0</td>\n",
       "      <td>0</td>\n",
       "      <td>1</td>\n",
       "      <td>0</td>\n",
       "      <td>0</td>\n",
       "      <td>0</td>\n",
       "      <td>1</td>\n",
       "      <td>0</td>\n",
       "      <td>0</td>\n",
       "    </tr>\n",
       "    <tr>\n",
       "      <th>3</th>\n",
       "      <td>6</td>\n",
       "      <td>0</td>\n",
       "      <td>1.857032</td>\n",
       "      <td>0</td>\n",
       "      <td>1.0</td>\n",
       "      <td>0</td>\n",
       "      <td>0</td>\n",
       "      <td>1</td>\n",
       "      <td>1</td>\n",
       "      <td>1</td>\n",
       "      <td>1</td>\n",
       "      <td>0</td>\n",
       "      <td>0</td>\n",
       "    </tr>\n",
       "    <tr>\n",
       "      <th>4</th>\n",
       "      <td>7</td>\n",
       "      <td>1</td>\n",
       "      <td>7.222060</td>\n",
       "      <td>0</td>\n",
       "      <td>1.0</td>\n",
       "      <td>0</td>\n",
       "      <td>0</td>\n",
       "      <td>1</td>\n",
       "      <td>1</td>\n",
       "      <td>0</td>\n",
       "      <td>0</td>\n",
       "      <td>0</td>\n",
       "      <td>0</td>\n",
       "    </tr>\n",
       "  </tbody>\n",
       "</table>\n",
       "</div>"
      ],
      "text/plain": [
       "   testindex  outcome  distance  visit_count  tier  fqhc  pcp_lookback  \\\n",
       "0          0        0  0.071912            0   2.0     0             0   \n",
       "1          2        0  0.448447            0   1.0     0             0   \n",
       "2          5        0  0.345793            0   1.0     0             1   \n",
       "3          6        0  1.857032            0   1.0     0             0   \n",
       "4          7        1  7.222060            0   1.0     0             0   \n",
       "\n",
       "   family_assignment  kid  is_ped  same_gender  same_language  same_address  \n",
       "0                  0    0       0            1              0             0  \n",
       "1                  1    1       1            0              0             0  \n",
       "2                  0    0       0            1              0             0  \n",
       "3                  1    1       1            1              0             0  \n",
       "4                  1    1       0            0              0             0  "
      ]
     },
     "execution_count": 129,
     "metadata": {},
     "output_type": "execute_result"
    }
   ],
   "source": [
    "df.head()"
   ]
  },
  {
   "cell_type": "code",
   "execution_count": 130,
   "metadata": {},
   "outputs": [
    {
     "data": {
      "text/html": [
       "<div>\n",
       "<style scoped>\n",
       "    .dataframe tbody tr th:only-of-type {\n",
       "        vertical-align: middle;\n",
       "    }\n",
       "\n",
       "    .dataframe tbody tr th {\n",
       "        vertical-align: top;\n",
       "    }\n",
       "\n",
       "    .dataframe thead th {\n",
       "        text-align: right;\n",
       "    }\n",
       "</style>\n",
       "<table border=\"1\" class=\"dataframe\">\n",
       "  <thead>\n",
       "    <tr style=\"text-align: right;\">\n",
       "      <th></th>\n",
       "      <th>testindex</th>\n",
       "      <th>outcome</th>\n",
       "      <th>distance</th>\n",
       "      <th>visit_count</th>\n",
       "      <th>tier</th>\n",
       "      <th>fqhc</th>\n",
       "      <th>pcp_lookback</th>\n",
       "      <th>family_assignment</th>\n",
       "      <th>kid</th>\n",
       "      <th>is_ped</th>\n",
       "      <th>same_gender</th>\n",
       "      <th>same_language</th>\n",
       "      <th>same_address</th>\n",
       "    </tr>\n",
       "  </thead>\n",
       "  <tbody>\n",
       "    <tr>\n",
       "      <th>testindex</th>\n",
       "      <td>1.000000</td>\n",
       "      <td>-0.026759</td>\n",
       "      <td>0.020463</td>\n",
       "      <td>0.000947</td>\n",
       "      <td>0.013175</td>\n",
       "      <td>0.013367</td>\n",
       "      <td>0.005399</td>\n",
       "      <td>-0.004871</td>\n",
       "      <td>0.005314</td>\n",
       "      <td>0.006978</td>\n",
       "      <td>-0.009489</td>\n",
       "      <td>-0.015617</td>\n",
       "      <td>0.035854</td>\n",
       "    </tr>\n",
       "    <tr>\n",
       "      <th>outcome</th>\n",
       "      <td>-0.026759</td>\n",
       "      <td>1.000000</td>\n",
       "      <td>0.087913</td>\n",
       "      <td>0.079740</td>\n",
       "      <td>0.009497</td>\n",
       "      <td>-0.036223</td>\n",
       "      <td>-0.080763</td>\n",
       "      <td>0.016145</td>\n",
       "      <td>0.045997</td>\n",
       "      <td>0.000790</td>\n",
       "      <td>0.000404</td>\n",
       "      <td>-0.032931</td>\n",
       "      <td>0.088038</td>\n",
       "    </tr>\n",
       "    <tr>\n",
       "      <th>distance</th>\n",
       "      <td>0.020463</td>\n",
       "      <td>0.087913</td>\n",
       "      <td>1.000000</td>\n",
       "      <td>0.064185</td>\n",
       "      <td>0.059318</td>\n",
       "      <td>-0.071265</td>\n",
       "      <td>0.166895</td>\n",
       "      <td>0.051340</td>\n",
       "      <td>0.059851</td>\n",
       "      <td>0.041664</td>\n",
       "      <td>0.021814</td>\n",
       "      <td>-0.015738</td>\n",
       "      <td>0.013349</td>\n",
       "    </tr>\n",
       "    <tr>\n",
       "      <th>visit_count</th>\n",
       "      <td>0.000947</td>\n",
       "      <td>0.079740</td>\n",
       "      <td>0.064185</td>\n",
       "      <td>1.000000</td>\n",
       "      <td>0.053391</td>\n",
       "      <td>-0.116720</td>\n",
       "      <td>0.255880</td>\n",
       "      <td>0.127605</td>\n",
       "      <td>0.109739</td>\n",
       "      <td>0.089603</td>\n",
       "      <td>0.036374</td>\n",
       "      <td>-0.022054</td>\n",
       "      <td>0.022203</td>\n",
       "    </tr>\n",
       "    <tr>\n",
       "      <th>tier</th>\n",
       "      <td>0.013175</td>\n",
       "      <td>0.009497</td>\n",
       "      <td>0.059318</td>\n",
       "      <td>0.053391</td>\n",
       "      <td>1.000000</td>\n",
       "      <td>-0.154486</td>\n",
       "      <td>0.078231</td>\n",
       "      <td>0.015586</td>\n",
       "      <td>-0.015117</td>\n",
       "      <td>-0.029170</td>\n",
       "      <td>0.011533</td>\n",
       "      <td>-0.046436</td>\n",
       "      <td>0.052708</td>\n",
       "    </tr>\n",
       "    <tr>\n",
       "      <th>fqhc</th>\n",
       "      <td>0.013367</td>\n",
       "      <td>-0.036223</td>\n",
       "      <td>-0.071265</td>\n",
       "      <td>-0.116720</td>\n",
       "      <td>-0.154486</td>\n",
       "      <td>1.000000</td>\n",
       "      <td>-0.115397</td>\n",
       "      <td>-0.079254</td>\n",
       "      <td>-0.040312</td>\n",
       "      <td>-0.045571</td>\n",
       "      <td>0.005236</td>\n",
       "      <td>0.037538</td>\n",
       "      <td>0.048609</td>\n",
       "    </tr>\n",
       "    <tr>\n",
       "      <th>pcp_lookback</th>\n",
       "      <td>0.005399</td>\n",
       "      <td>-0.080763</td>\n",
       "      <td>0.166895</td>\n",
       "      <td>0.255880</td>\n",
       "      <td>0.078231</td>\n",
       "      <td>-0.115397</td>\n",
       "      <td>1.000000</td>\n",
       "      <td>0.086117</td>\n",
       "      <td>0.092086</td>\n",
       "      <td>0.083016</td>\n",
       "      <td>0.013384</td>\n",
       "      <td>-0.018814</td>\n",
       "      <td>0.102317</td>\n",
       "    </tr>\n",
       "    <tr>\n",
       "      <th>family_assignment</th>\n",
       "      <td>-0.004871</td>\n",
       "      <td>0.016145</td>\n",
       "      <td>0.051340</td>\n",
       "      <td>0.127605</td>\n",
       "      <td>0.015586</td>\n",
       "      <td>-0.079254</td>\n",
       "      <td>0.086117</td>\n",
       "      <td>1.000000</td>\n",
       "      <td>0.310442</td>\n",
       "      <td>0.293631</td>\n",
       "      <td>-0.026755</td>\n",
       "      <td>0.033105</td>\n",
       "      <td>0.010650</td>\n",
       "    </tr>\n",
       "    <tr>\n",
       "      <th>kid</th>\n",
       "      <td>0.005314</td>\n",
       "      <td>0.045997</td>\n",
       "      <td>0.059851</td>\n",
       "      <td>0.109739</td>\n",
       "      <td>-0.015117</td>\n",
       "      <td>-0.040312</td>\n",
       "      <td>0.092086</td>\n",
       "      <td>0.310442</td>\n",
       "      <td>1.000000</td>\n",
       "      <td>0.880381</td>\n",
       "      <td>-0.018434</td>\n",
       "      <td>-0.016722</td>\n",
       "      <td>-0.019676</td>\n",
       "    </tr>\n",
       "    <tr>\n",
       "      <th>is_ped</th>\n",
       "      <td>0.006978</td>\n",
       "      <td>0.000790</td>\n",
       "      <td>0.041664</td>\n",
       "      <td>0.089603</td>\n",
       "      <td>-0.029170</td>\n",
       "      <td>-0.045571</td>\n",
       "      <td>0.083016</td>\n",
       "      <td>0.293631</td>\n",
       "      <td>0.880381</td>\n",
       "      <td>1.000000</td>\n",
       "      <td>-0.005089</td>\n",
       "      <td>0.009303</td>\n",
       "      <td>-0.012760</td>\n",
       "    </tr>\n",
       "    <tr>\n",
       "      <th>same_gender</th>\n",
       "      <td>-0.009489</td>\n",
       "      <td>0.000404</td>\n",
       "      <td>0.021814</td>\n",
       "      <td>0.036374</td>\n",
       "      <td>0.011533</td>\n",
       "      <td>0.005236</td>\n",
       "      <td>0.013384</td>\n",
       "      <td>-0.026755</td>\n",
       "      <td>-0.018434</td>\n",
       "      <td>-0.005089</td>\n",
       "      <td>1.000000</td>\n",
       "      <td>0.257339</td>\n",
       "      <td>-0.011309</td>\n",
       "    </tr>\n",
       "    <tr>\n",
       "      <th>same_language</th>\n",
       "      <td>-0.015617</td>\n",
       "      <td>-0.032931</td>\n",
       "      <td>-0.015738</td>\n",
       "      <td>-0.022054</td>\n",
       "      <td>-0.046436</td>\n",
       "      <td>0.037538</td>\n",
       "      <td>-0.018814</td>\n",
       "      <td>0.033105</td>\n",
       "      <td>-0.016722</td>\n",
       "      <td>0.009303</td>\n",
       "      <td>0.257339</td>\n",
       "      <td>1.000000</td>\n",
       "      <td>-0.021845</td>\n",
       "    </tr>\n",
       "    <tr>\n",
       "      <th>same_address</th>\n",
       "      <td>0.035854</td>\n",
       "      <td>0.088038</td>\n",
       "      <td>0.013349</td>\n",
       "      <td>0.022203</td>\n",
       "      <td>0.052708</td>\n",
       "      <td>0.048609</td>\n",
       "      <td>0.102317</td>\n",
       "      <td>0.010650</td>\n",
       "      <td>-0.019676</td>\n",
       "      <td>-0.012760</td>\n",
       "      <td>-0.011309</td>\n",
       "      <td>-0.021845</td>\n",
       "      <td>1.000000</td>\n",
       "    </tr>\n",
       "  </tbody>\n",
       "</table>\n",
       "</div>"
      ],
      "text/plain": [
       "                   testindex   outcome  distance  visit_count      tier  \\\n",
       "testindex           1.000000 -0.026759  0.020463     0.000947  0.013175   \n",
       "outcome            -0.026759  1.000000  0.087913     0.079740  0.009497   \n",
       "distance            0.020463  0.087913  1.000000     0.064185  0.059318   \n",
       "visit_count         0.000947  0.079740  0.064185     1.000000  0.053391   \n",
       "tier                0.013175  0.009497  0.059318     0.053391  1.000000   \n",
       "fqhc                0.013367 -0.036223 -0.071265    -0.116720 -0.154486   \n",
       "pcp_lookback        0.005399 -0.080763  0.166895     0.255880  0.078231   \n",
       "family_assignment  -0.004871  0.016145  0.051340     0.127605  0.015586   \n",
       "kid                 0.005314  0.045997  0.059851     0.109739 -0.015117   \n",
       "is_ped              0.006978  0.000790  0.041664     0.089603 -0.029170   \n",
       "same_gender        -0.009489  0.000404  0.021814     0.036374  0.011533   \n",
       "same_language      -0.015617 -0.032931 -0.015738    -0.022054 -0.046436   \n",
       "same_address        0.035854  0.088038  0.013349     0.022203  0.052708   \n",
       "\n",
       "                       fqhc  pcp_lookback  family_assignment       kid  \\\n",
       "testindex          0.013367      0.005399          -0.004871  0.005314   \n",
       "outcome           -0.036223     -0.080763           0.016145  0.045997   \n",
       "distance          -0.071265      0.166895           0.051340  0.059851   \n",
       "visit_count       -0.116720      0.255880           0.127605  0.109739   \n",
       "tier              -0.154486      0.078231           0.015586 -0.015117   \n",
       "fqhc               1.000000     -0.115397          -0.079254 -0.040312   \n",
       "pcp_lookback      -0.115397      1.000000           0.086117  0.092086   \n",
       "family_assignment -0.079254      0.086117           1.000000  0.310442   \n",
       "kid               -0.040312      0.092086           0.310442  1.000000   \n",
       "is_ped            -0.045571      0.083016           0.293631  0.880381   \n",
       "same_gender        0.005236      0.013384          -0.026755 -0.018434   \n",
       "same_language      0.037538     -0.018814           0.033105 -0.016722   \n",
       "same_address       0.048609      0.102317           0.010650 -0.019676   \n",
       "\n",
       "                     is_ped  same_gender  same_language  same_address  \n",
       "testindex          0.006978    -0.009489      -0.015617      0.035854  \n",
       "outcome            0.000790     0.000404      -0.032931      0.088038  \n",
       "distance           0.041664     0.021814      -0.015738      0.013349  \n",
       "visit_count        0.089603     0.036374      -0.022054      0.022203  \n",
       "tier              -0.029170     0.011533      -0.046436      0.052708  \n",
       "fqhc              -0.045571     0.005236       0.037538      0.048609  \n",
       "pcp_lookback       0.083016     0.013384      -0.018814      0.102317  \n",
       "family_assignment  0.293631    -0.026755       0.033105      0.010650  \n",
       "kid                0.880381    -0.018434      -0.016722     -0.019676  \n",
       "is_ped             1.000000    -0.005089       0.009303     -0.012760  \n",
       "same_gender       -0.005089     1.000000       0.257339     -0.011309  \n",
       "same_language      0.009303     0.257339       1.000000     -0.021845  \n",
       "same_address      -0.012760    -0.011309      -0.021845      1.000000  "
      ]
     },
     "execution_count": 130,
     "metadata": {},
     "output_type": "execute_result"
    }
   ],
   "source": [
    "df.corr()"
   ]
  },
  {
   "cell_type": "code",
   "execution_count": 131,
   "metadata": {},
   "outputs": [
    {
     "data": {
      "text/plain": [
       "<AxesSubplot:>"
      ]
     },
     "execution_count": 131,
     "metadata": {},
     "output_type": "execute_result"
    },
    {
     "data": {
      "image/png": "[encoded data removed]",
      "text/plain": [
       "<Figure size 1440x1296 with 2 Axes>"
      ]
     },
     "metadata": {
      "needs_background": "light"
     },
     "output_type": "display_data"
    }
   ],
   "source": [
    "plt.figure(figsize=(20,18))\n",
    "sns.heatmap(df.corr(), annot=True)"
   ]
  },
  {
   "cell_type": "code",
   "execution_count": 132,
   "metadata": {},
   "outputs": [],
   "source": [
    "x = df.drop(['outcome', 'testindex'], axis=1)\n",
    "y = df['outcome']"
   ]
  },
  {
   "cell_type": "code",
   "execution_count": 133,
   "metadata": {},
   "outputs": [],
   "source": [
    "x_train, x_test, y_train,y_test = train_test_split(x,y, train_size=0.7, test_size=0.3, random_state=100)"
   ]
  },
  {
   "cell_type": "code",
   "execution_count": 134,
   "metadata": {},
   "outputs": [
    {
     "data": {
      "text/html": [
       "<div>\n",
       "<style scoped>\n",
       "    .dataframe tbody tr th:only-of-type {\n",
       "        vertical-align: middle;\n",
       "    }\n",
       "\n",
       "    .dataframe tbody tr th {\n",
       "        vertical-align: top;\n",
       "    }\n",
       "\n",
       "    .dataframe thead th {\n",
       "        text-align: right;\n",
       "    }\n",
       "</style>\n",
       "<table border=\"1\" class=\"dataframe\">\n",
       "  <thead>\n",
       "    <tr style=\"text-align: right;\">\n",
       "      <th></th>\n",
       "      <th>distance</th>\n",
       "      <th>visit_count</th>\n",
       "      <th>tier</th>\n",
       "      <th>fqhc</th>\n",
       "      <th>pcp_lookback</th>\n",
       "      <th>family_assignment</th>\n",
       "      <th>kid</th>\n",
       "      <th>is_ped</th>\n",
       "      <th>same_gender</th>\n",
       "      <th>same_language</th>\n",
       "      <th>same_address</th>\n",
       "    </tr>\n",
       "  </thead>\n",
       "  <tbody>\n",
       "    <tr>\n",
       "      <th>1221</th>\n",
       "      <td>1.428178</td>\n",
       "      <td>0</td>\n",
       "      <td>1.0</td>\n",
       "      <td>1</td>\n",
       "      <td>0</td>\n",
       "      <td>0</td>\n",
       "      <td>0</td>\n",
       "      <td>0</td>\n",
       "      <td>0</td>\n",
       "      <td>0</td>\n",
       "      <td>0</td>\n",
       "    </tr>\n",
       "    <tr>\n",
       "      <th>649</th>\n",
       "      <td>0.749095</td>\n",
       "      <td>0</td>\n",
       "      <td>3.0</td>\n",
       "      <td>0</td>\n",
       "      <td>0</td>\n",
       "      <td>0</td>\n",
       "      <td>0</td>\n",
       "      <td>0</td>\n",
       "      <td>1</td>\n",
       "      <td>0</td>\n",
       "      <td>0</td>\n",
       "    </tr>\n",
       "    <tr>\n",
       "      <th>1661</th>\n",
       "      <td>2.449499</td>\n",
       "      <td>0</td>\n",
       "      <td>1.0</td>\n",
       "      <td>0</td>\n",
       "      <td>1</td>\n",
       "      <td>0</td>\n",
       "      <td>1</td>\n",
       "      <td>1</td>\n",
       "      <td>0</td>\n",
       "      <td>0</td>\n",
       "      <td>0</td>\n",
       "    </tr>\n",
       "    <tr>\n",
       "      <th>2389</th>\n",
       "      <td>0.559509</td>\n",
       "      <td>2</td>\n",
       "      <td>1.0</td>\n",
       "      <td>0</td>\n",
       "      <td>1</td>\n",
       "      <td>0</td>\n",
       "      <td>0</td>\n",
       "      <td>0</td>\n",
       "      <td>0</td>\n",
       "      <td>0</td>\n",
       "      <td>0</td>\n",
       "    </tr>\n",
       "    <tr>\n",
       "      <th>3062</th>\n",
       "      <td>2.211284</td>\n",
       "      <td>0</td>\n",
       "      <td>3.0</td>\n",
       "      <td>0</td>\n",
       "      <td>0</td>\n",
       "      <td>0</td>\n",
       "      <td>0</td>\n",
       "      <td>0</td>\n",
       "      <td>1</td>\n",
       "      <td>0</td>\n",
       "      <td>0</td>\n",
       "    </tr>\n",
       "  </tbody>\n",
       "</table>\n",
       "</div>"
      ],
      "text/plain": [
       "      distance  visit_count  tier  fqhc  pcp_lookback  family_assignment  kid  \\\n",
       "1221  1.428178            0   1.0     1             0                  0    0   \n",
       "649   0.749095            0   3.0     0             0                  0    0   \n",
       "1661  2.449499            0   1.0     0             1                  0    1   \n",
       "2389  0.559509            2   1.0     0             1                  0    0   \n",
       "3062  2.211284            0   3.0     0             0                  0    0   \n",
       "\n",
       "      is_ped  same_gender  same_language  same_address  \n",
       "1221       0            0              0             0  \n",
       "649        0            1              0             0  \n",
       "1661       1            0              0             0  \n",
       "2389       0            0              0             0  \n",
       "3062       0            1              0             0  "
      ]
     },
     "execution_count": 134,
     "metadata": {},
     "output_type": "execute_result"
    }
   ],
   "source": [
    "x_train.head()"
   ]
  },
  {
   "cell_type": "markdown",
   "metadata": {},
   "source": [
    "## Scaling numerical freatures"
   ]
  },
  {
   "cell_type": "code",
   "execution_count": 135,
   "metadata": {},
   "outputs": [
    {
     "name": "stderr",
     "output_type": "stream",
     "text": [
      "<ipython-input-135-6dd5fad0865b>:2: SettingWithCopyWarning: \n",
      "A value is trying to be set on a copy of a slice from a DataFrame.\n",
      "Try using .loc[row_indexer,col_indexer] = value instead\n",
      "\n",
      "See the caveats in the documentation: https://pandas.pydata.org/pandas-docs/stable/user_guide/indexing.html#returning-a-view-versus-a-copy\n",
      "  x_train[['distance','visit_count','tier']] = scaller.fit_transform(x_train[['distance','visit_count','tier']])\n",
      "C:\\Users\\rafisha.OT\\AppData\\Roaming\\Python\\Python38\\site-packages\\pandas\\core\\indexing.py:1736: SettingWithCopyWarning: \n",
      "A value is trying to be set on a copy of a slice from a DataFrame.\n",
      "Try using .loc[row_indexer,col_indexer] = value instead\n",
      "\n",
      "See the caveats in the documentation: https://pandas.pydata.org/pandas-docs/stable/user_guide/indexing.html#returning-a-view-versus-a-copy\n",
      "  isetter(loc, value[:, i].tolist())\n"
     ]
    },
    {
     "data": {
      "text/html": [
       "<div>\n",
       "<style scoped>\n",
       "    .dataframe tbody tr th:only-of-type {\n",
       "        vertical-align: middle;\n",
       "    }\n",
       "\n",
       "    .dataframe tbody tr th {\n",
       "        vertical-align: top;\n",
       "    }\n",
       "\n",
       "    .dataframe thead th {\n",
       "        text-align: right;\n",
       "    }\n",
       "</style>\n",
       "<table border=\"1\" class=\"dataframe\">\n",
       "  <thead>\n",
       "    <tr style=\"text-align: right;\">\n",
       "      <th></th>\n",
       "      <th>distance</th>\n",
       "      <th>visit_count</th>\n",
       "      <th>tier</th>\n",
       "      <th>fqhc</th>\n",
       "      <th>pcp_lookback</th>\n",
       "      <th>family_assignment</th>\n",
       "      <th>kid</th>\n",
       "      <th>is_ped</th>\n",
       "      <th>same_gender</th>\n",
       "      <th>same_language</th>\n",
       "      <th>same_address</th>\n",
       "    </tr>\n",
       "  </thead>\n",
       "  <tbody>\n",
       "    <tr>\n",
       "      <th>1221</th>\n",
       "      <td>-0.260415</td>\n",
       "      <td>-0.360784</td>\n",
       "      <td>-0.803493</td>\n",
       "      <td>1</td>\n",
       "      <td>0</td>\n",
       "      <td>0</td>\n",
       "      <td>0</td>\n",
       "      <td>0</td>\n",
       "      <td>0</td>\n",
       "      <td>0</td>\n",
       "      <td>0</td>\n",
       "    </tr>\n",
       "    <tr>\n",
       "      <th>649</th>\n",
       "      <td>-0.425427</td>\n",
       "      <td>-0.360784</td>\n",
       "      <td>1.223158</td>\n",
       "      <td>0</td>\n",
       "      <td>0</td>\n",
       "      <td>0</td>\n",
       "      <td>0</td>\n",
       "      <td>0</td>\n",
       "      <td>1</td>\n",
       "      <td>0</td>\n",
       "      <td>0</td>\n",
       "    </tr>\n",
       "    <tr>\n",
       "      <th>1661</th>\n",
       "      <td>-0.012243</td>\n",
       "      <td>-0.360784</td>\n",
       "      <td>-0.803493</td>\n",
       "      <td>0</td>\n",
       "      <td>1</td>\n",
       "      <td>0</td>\n",
       "      <td>1</td>\n",
       "      <td>1</td>\n",
       "      <td>0</td>\n",
       "      <td>0</td>\n",
       "      <td>0</td>\n",
       "    </tr>\n",
       "    <tr>\n",
       "      <th>2389</th>\n",
       "      <td>-0.471495</td>\n",
       "      <td>0.460100</td>\n",
       "      <td>-0.803493</td>\n",
       "      <td>0</td>\n",
       "      <td>1</td>\n",
       "      <td>0</td>\n",
       "      <td>0</td>\n",
       "      <td>0</td>\n",
       "      <td>0</td>\n",
       "      <td>0</td>\n",
       "      <td>0</td>\n",
       "    </tr>\n",
       "    <tr>\n",
       "      <th>3062</th>\n",
       "      <td>-0.070127</td>\n",
       "      <td>-0.360784</td>\n",
       "      <td>1.223158</td>\n",
       "      <td>0</td>\n",
       "      <td>0</td>\n",
       "      <td>0</td>\n",
       "      <td>0</td>\n",
       "      <td>0</td>\n",
       "      <td>1</td>\n",
       "      <td>0</td>\n",
       "      <td>0</td>\n",
       "    </tr>\n",
       "  </tbody>\n",
       "</table>\n",
       "</div>"
      ],
      "text/plain": [
       "      distance  visit_count      tier  fqhc  pcp_lookback  family_assignment  \\\n",
       "1221 -0.260415    -0.360784 -0.803493     1             0                  0   \n",
       "649  -0.425427    -0.360784  1.223158     0             0                  0   \n",
       "1661 -0.012243    -0.360784 -0.803493     0             1                  0   \n",
       "2389 -0.471495     0.460100 -0.803493     0             1                  0   \n",
       "3062 -0.070127    -0.360784  1.223158     0             0                  0   \n",
       "\n",
       "      kid  is_ped  same_gender  same_language  same_address  \n",
       "1221    0       0            0              0             0  \n",
       "649     0       0            1              0             0  \n",
       "1661    1       1            0              0             0  \n",
       "2389    0       0            0              0             0  \n",
       "3062    0       0            1              0             0  "
      ]
     },
     "execution_count": 135,
     "metadata": {},
     "output_type": "execute_result"
    }
   ],
   "source": [
    "scaller = StandardScaler()\n",
    "x_train[['distance','visit_count','tier']] = scaller.fit_transform(x_train[['distance','visit_count','tier']])\n",
    "x_train.head()"
   ]
  },
  {
   "cell_type": "markdown",
   "metadata": {},
   "source": [
    "## Model Building"
   ]
  },
  {
   "cell_type": "code",
   "execution_count": 136,
   "metadata": {},
   "outputs": [
    {
     "name": "stdout",
     "output_type": "stream",
     "text": [
      "                            GLS Regression Results                            \n",
      "==============================================================================\n",
      "Dep. Variable:                outcome   R-squared:                       0.045\n",
      "Model:                            GLS   Adj. R-squared:                  0.040\n",
      "Method:                 Least Squares   F-statistic:                     9.215\n",
      "Date:                Fri, 12 Mar 2021   Prob (F-statistic):           2.52e-16\n",
      "Time:                        22:43:54   Log-Likelihood:                 514.61\n",
      "No. Observations:                2149   AIC:                            -1005.\n",
      "Df Residuals:                    2137   BIC:                            -937.1\n",
      "Df Model:                          11                                         \n",
      "Covariance Type:            nonrobust                                         \n",
      "=====================================================================================\n",
      "                        coef    std err          t      P>|t|      [0.025      0.975]\n",
      "-------------------------------------------------------------------------------------\n",
      "const                 0.0609      0.008      7.290      0.000       0.045       0.077\n",
      "distance              0.0220      0.004      5.221      0.000       0.014       0.030\n",
      "visit_count           0.0145      0.004      3.372      0.001       0.006       0.023\n",
      "tier               4.358e-05      0.004      0.010      0.992      -0.008       0.008\n",
      "fqhc                 -0.0253      0.011     -2.385      0.017      -0.046      -0.004\n",
      "pcp_lookback         -0.0548      0.009     -6.208      0.000      -0.072      -0.037\n",
      "family_assignment    -0.0021      0.009     -0.225      0.822      -0.020       0.016\n",
      "kid                   0.0765      0.017      4.384      0.000       0.042       0.111\n",
      "is_ped               -0.0611      0.017     -3.566      0.000      -0.095      -0.027\n",
      "same_gender           0.0023      0.009      0.268      0.789      -0.015       0.019\n",
      "same_language        -0.0209      0.017     -1.221      0.222      -0.054       0.013\n",
      "same_address          0.0581      0.017      3.491      0.000       0.025       0.091\n",
      "==============================================================================\n",
      "Omnibus:                     1907.929   Durbin-Watson:                   2.014\n",
      "Prob(Omnibus):                  0.000   Jarque-Bera (JB):            38348.642\n",
      "Skew:                           4.424   Prob(JB):                         0.00\n",
      "Kurtosis:                      21.708   Cond. No.                         8.36\n",
      "==============================================================================\n",
      "\n",
      "Notes:\n",
      "[1] Standard Errors assume that the covariance matrix of the errors is correctly specified.\n"
     ]
    }
   ],
   "source": [
    "# Logistic regression model\n",
    "x_train_sm = sm.add_constant(x_train)\n",
    "lm = sm.GLS(y_train, x_train_sm).fit()   \n",
    "print(lm.summary())\n"
   ]
  },
  {
   "cell_type": "code",
   "execution_count": 137,
   "metadata": {},
   "outputs": [
    {
     "data": {
      "text/html": [
       "<div>\n",
       "<style scoped>\n",
       "    .dataframe tbody tr th:only-of-type {\n",
       "        vertical-align: middle;\n",
       "    }\n",
       "\n",
       "    .dataframe tbody tr th {\n",
       "        vertical-align: top;\n",
       "    }\n",
       "\n",
       "    .dataframe thead th {\n",
       "        text-align: right;\n",
       "    }\n",
       "</style>\n",
       "<table border=\"1\" class=\"dataframe\">\n",
       "  <thead>\n",
       "    <tr style=\"text-align: right;\">\n",
       "      <th></th>\n",
       "      <th>Features</th>\n",
       "      <th>VIF</th>\n",
       "    </tr>\n",
       "  </thead>\n",
       "  <tbody>\n",
       "    <tr>\n",
       "      <th>7</th>\n",
       "      <td>is_ped</td>\n",
       "      <td>6.75</td>\n",
       "    </tr>\n",
       "    <tr>\n",
       "      <th>6</th>\n",
       "      <td>kid</td>\n",
       "      <td>6.72</td>\n",
       "    </tr>\n",
       "    <tr>\n",
       "      <th>8</th>\n",
       "      <td>same_gender</td>\n",
       "      <td>1.69</td>\n",
       "    </tr>\n",
       "    <tr>\n",
       "      <th>4</th>\n",
       "      <td>pcp_lookback</td>\n",
       "      <td>1.65</td>\n",
       "    </tr>\n",
       "    <tr>\n",
       "      <th>5</th>\n",
       "      <td>family_assignment</td>\n",
       "      <td>1.58</td>\n",
       "    </tr>\n",
       "    <tr>\n",
       "      <th>3</th>\n",
       "      <td>fqhc</td>\n",
       "      <td>1.21</td>\n",
       "    </tr>\n",
       "    <tr>\n",
       "      <th>9</th>\n",
       "      <td>same_language</td>\n",
       "      <td>1.17</td>\n",
       "    </tr>\n",
       "    <tr>\n",
       "      <th>10</th>\n",
       "      <td>same_address</td>\n",
       "      <td>1.09</td>\n",
       "    </tr>\n",
       "    <tr>\n",
       "      <th>1</th>\n",
       "      <td>visit_count</td>\n",
       "      <td>1.06</td>\n",
       "    </tr>\n",
       "    <tr>\n",
       "      <th>2</th>\n",
       "      <td>tier</td>\n",
       "      <td>1.04</td>\n",
       "    </tr>\n",
       "    <tr>\n",
       "      <th>0</th>\n",
       "      <td>distance</td>\n",
       "      <td>1.03</td>\n",
       "    </tr>\n",
       "  </tbody>\n",
       "</table>\n",
       "</div>"
      ],
      "text/plain": [
       "             Features   VIF\n",
       "7              is_ped  6.75\n",
       "6                 kid  6.72\n",
       "8         same_gender  1.69\n",
       "4        pcp_lookback  1.65\n",
       "5   family_assignment  1.58\n",
       "3                fqhc  1.21\n",
       "9       same_language  1.17\n",
       "10       same_address  1.09\n",
       "1         visit_count  1.06\n",
       "2                tier  1.04\n",
       "0            distance  1.03"
      ]
     },
     "execution_count": 137,
     "metadata": {},
     "output_type": "execute_result"
    }
   ],
   "source": [
    "vif = pd.DataFrame()\n",
    "vif['Features'] = x_train.columns\n",
    "vif['VIF'] = [variance_inflation_factor(x_train.values, i) for i in range(x_train.shape[1])]\n",
    "vif['VIF'] = round(vif['VIF'], 2)\n",
    "vif = vif.sort_values(by = \"VIF\", ascending = False)\n",
    "vif"
   ]
  },
  {
   "cell_type": "code",
   "execution_count": 138,
   "metadata": {},
   "outputs": [],
   "source": [
    "col = x_train.columns"
   ]
  },
  {
   "cell_type": "code",
   "execution_count": 139,
   "metadata": {},
   "outputs": [],
   "source": [
    "# tier has  0.992 more then 0.05 p-value, hance droping 'tier' column\n",
    "col = col.drop('tier',1)"
   ]
  },
  {
   "cell_type": "code",
   "execution_count": 140,
   "metadata": {},
   "outputs": [
    {
     "name": "stdout",
     "output_type": "stream",
     "text": [
      "                            GLS Regression Results                            \n",
      "==============================================================================\n",
      "Dep. Variable:                outcome   R-squared:                       0.045\n",
      "Model:                            GLS   Adj. R-squared:                  0.041\n",
      "Method:                 Least Squares   F-statistic:                     10.14\n",
      "Date:                Fri, 12 Mar 2021   Prob (F-statistic):           7.65e-17\n",
      "Time:                        22:44:11   Log-Likelihood:                 514.61\n",
      "No. Observations:                2149   AIC:                            -1007.\n",
      "Df Residuals:                    2138   BIC:                            -944.8\n",
      "Df Model:                          10                                         \n",
      "Covariance Type:            nonrobust                                         \n",
      "=====================================================================================\n",
      "                        coef    std err          t      P>|t|      [0.025      0.975]\n",
      "-------------------------------------------------------------------------------------\n",
      "const                 0.0609      0.008      7.293      0.000       0.045       0.077\n",
      "distance              0.0220      0.004      5.223      0.000       0.014       0.030\n",
      "visit_count           0.0145      0.004      3.375      0.001       0.006       0.023\n",
      "fqhc                 -0.0253      0.010     -2.413      0.016      -0.046      -0.005\n",
      "pcp_lookback         -0.0548      0.009     -6.221      0.000      -0.072      -0.038\n",
      "family_assignment    -0.0021      0.009     -0.225      0.822      -0.020       0.016\n",
      "kid                   0.0765      0.017      4.385      0.000       0.042       0.111\n",
      "is_ped               -0.0611      0.017     -3.569      0.000      -0.095      -0.028\n",
      "same_gender           0.0023      0.009      0.268      0.788      -0.015       0.019\n",
      "same_language        -0.0209      0.017     -1.224      0.221      -0.054       0.013\n",
      "same_address          0.0581      0.017      3.499      0.000       0.026       0.091\n",
      "==============================================================================\n",
      "Omnibus:                     1907.931   Durbin-Watson:                   2.014\n",
      "Prob(Omnibus):                  0.000   Jarque-Bera (JB):            38348.806\n",
      "Skew:                           4.424   Prob(JB):                         0.00\n",
      "Kurtosis:                      21.708   Cond. No.                         8.35\n",
      "==============================================================================\n",
      "\n",
      "Notes:\n",
      "[1] Standard Errors assume that the covariance matrix of the errors is correctly specified.\n"
     ]
    }
   ],
   "source": [
    "x_train_sm = sm.add_constant(x_train[col])\n",
    "lm = sm.GLS(y_train, x_train_sm).fit()   \n",
    "print(lm.summary())"
   ]
  },
  {
   "cell_type": "code",
   "execution_count": 141,
   "metadata": {},
   "outputs": [],
   "source": [
    "# family_assignment has 0.822 more then 0.05 p-value, hance droping 'family_assignment' column\n",
    "col = col.drop('family_assignment',1)"
   ]
  },
  {
   "cell_type": "code",
   "execution_count": 142,
   "metadata": {},
   "outputs": [
    {
     "name": "stdout",
     "output_type": "stream",
     "text": [
      "                            GLS Regression Results                            \n",
      "==============================================================================\n",
      "Dep. Variable:                outcome   R-squared:                       0.045\n",
      "Model:                            GLS   Adj. R-squared:                  0.041\n",
      "Method:                 Least Squares   F-statistic:                     11.27\n",
      "Date:                Fri, 12 Mar 2021   Prob (F-statistic):           2.25e-17\n",
      "Time:                        22:44:12   Log-Likelihood:                 514.58\n",
      "No. Observations:                2149   AIC:                            -1009.\n",
      "Df Residuals:                    2139   BIC:                            -952.4\n",
      "Df Model:                           9                                         \n",
      "Covariance Type:            nonrobust                                         \n",
      "=================================================================================\n",
      "                    coef    std err          t      P>|t|      [0.025      0.975]\n",
      "---------------------------------------------------------------------------------\n",
      "const             0.0604      0.008      7.501      0.000       0.045       0.076\n",
      "distance          0.0219      0.004      5.220      0.000       0.014       0.030\n",
      "visit_count       0.0145      0.004      3.368      0.001       0.006       0.023\n",
      "fqhc             -0.0252      0.010     -2.406      0.016      -0.046      -0.005\n",
      "pcp_lookback     -0.0549      0.009     -6.233      0.000      -0.072      -0.038\n",
      "kid               0.0760      0.017      4.391      0.000       0.042       0.110\n",
      "is_ped           -0.0612      0.017     -3.580      0.000      -0.095      -0.028\n",
      "same_gender       0.0024      0.009      0.277      0.782      -0.014       0.019\n",
      "same_language    -0.0211      0.017     -1.237      0.216      -0.055       0.012\n",
      "same_address      0.0581      0.017      3.499      0.000       0.026       0.091\n",
      "==============================================================================\n",
      "Omnibus:                     1907.866   Durbin-Watson:                   2.014\n",
      "Prob(Omnibus):                  0.000   Jarque-Bera (JB):            38342.721\n",
      "Skew:                           4.423   Prob(JB):                         0.00\n",
      "Kurtosis:                      21.707   Cond. No.                         8.05\n",
      "==============================================================================\n",
      "\n",
      "Notes:\n",
      "[1] Standard Errors assume that the covariance matrix of the errors is correctly specified.\n"
     ]
    }
   ],
   "source": [
    "x_train_sm = sm.add_constant(x_train[col])\n",
    "lm = sm.GLS(y_train, x_train_sm).fit()   \n",
    "print(lm.summary())"
   ]
  },
  {
   "cell_type": "code",
   "execution_count": 143,
   "metadata": {},
   "outputs": [],
   "source": [
    "# same_gender has 0.782 more then 0.05 p-value, hance droping 'same_gender' column\n",
    "col = col.drop('same_gender',1)"
   ]
  },
  {
   "cell_type": "code",
   "execution_count": 144,
   "metadata": {},
   "outputs": [
    {
     "name": "stdout",
     "output_type": "stream",
     "text": [
      "                            GLS Regression Results                            \n",
      "==============================================================================\n",
      "Dep. Variable:                outcome   R-squared:                       0.045\n",
      "Model:                            GLS   Adj. R-squared:                  0.042\n",
      "Method:                 Least Squares   F-statistic:                     12.67\n",
      "Date:                Fri, 12 Mar 2021   Prob (F-statistic):           6.27e-18\n",
      "Time:                        22:44:13   Log-Likelihood:                 514.54\n",
      "No. Observations:                2149   AIC:                            -1011.\n",
      "Df Residuals:                    2140   BIC:                            -960.0\n",
      "Df Model:                           8                                         \n",
      "Covariance Type:            nonrobust                                         \n",
      "=================================================================================\n",
      "                    coef    std err          t      P>|t|      [0.025      0.975]\n",
      "---------------------------------------------------------------------------------\n",
      "const             0.0615      0.007      8.808      0.000       0.048       0.075\n",
      "distance          0.0220      0.004      5.231      0.000       0.014       0.030\n",
      "visit_count       0.0145      0.004      3.392      0.001       0.006       0.023\n",
      "fqhc             -0.0252      0.010     -2.404      0.016      -0.046      -0.005\n",
      "pcp_lookback     -0.0548      0.009     -6.230      0.000      -0.072      -0.038\n",
      "kid               0.0759      0.017      4.385      0.000       0.042       0.110\n",
      "is_ped           -0.0611      0.017     -3.574      0.000      -0.095      -0.028\n",
      "same_language    -0.0199      0.016     -1.207      0.228      -0.052       0.012\n",
      "same_address      0.0581      0.017      3.498      0.000       0.026       0.091\n",
      "==============================================================================\n",
      "Omnibus:                     1907.930   Durbin-Watson:                   2.014\n",
      "Prob(Omnibus):                  0.000   Jarque-Bera (JB):            38346.586\n",
      "Skew:                           4.424   Prob(JB):                         0.00\n",
      "Kurtosis:                      21.708   Cond. No.                         7.47\n",
      "==============================================================================\n",
      "\n",
      "Notes:\n",
      "[1] Standard Errors assume that the covariance matrix of the errors is correctly specified.\n"
     ]
    }
   ],
   "source": [
    "x_train_sm = sm.add_constant(x_train[col])\n",
    "lm = sm.GLS(y_train, x_train_sm).fit()   \n",
    "print(lm.summary())"
   ]
  },
  {
   "cell_type": "code",
   "execution_count": 145,
   "metadata": {},
   "outputs": [],
   "source": [
    "# same_language has 0.228 more then 0.05 p-value, hance droping 'same_language' column\n",
    "col = col.drop('same_language',1)"
   ]
  },
  {
   "cell_type": "code",
   "execution_count": 146,
   "metadata": {},
   "outputs": [
    {
     "name": "stdout",
     "output_type": "stream",
     "text": [
      "                            GLS Regression Results                            \n",
      "==============================================================================\n",
      "Dep. Variable:                outcome   R-squared:                       0.045\n",
      "Model:                            GLS   Adj. R-squared:                  0.041\n",
      "Method:                 Least Squares   F-statistic:                     14.27\n",
      "Date:                Fri, 12 Mar 2021   Prob (F-statistic):           3.15e-18\n",
      "Time:                        22:44:14   Log-Likelihood:                 513.81\n",
      "No. Observations:                2149   AIC:                            -1012.\n",
      "Df Residuals:                    2141   BIC:                            -966.2\n",
      "Df Model:                           7                                         \n",
      "Covariance Type:            nonrobust                                         \n",
      "================================================================================\n",
      "                   coef    std err          t      P>|t|      [0.025      0.975]\n",
      "--------------------------------------------------------------------------------\n",
      "const            0.0601      0.007      8.726      0.000       0.047       0.074\n",
      "distance         0.0221      0.004      5.256      0.000       0.014       0.030\n",
      "visit_count      0.0145      0.004      3.389      0.001       0.006       0.023\n",
      "fqhc            -0.0255      0.010     -2.437      0.015      -0.046      -0.005\n",
      "pcp_lookback    -0.0547      0.009     -6.215      0.000      -0.072      -0.037\n",
      "kid              0.0773      0.017      4.477      0.000       0.043       0.111\n",
      "is_ped          -0.0624      0.017     -3.662      0.000      -0.096      -0.029\n",
      "same_address     0.0585      0.017      3.523      0.000       0.026       0.091\n",
      "==============================================================================\n",
      "Omnibus:                     1909.229   Durbin-Watson:                   2.015\n",
      "Prob(Omnibus):                  0.000   Jarque-Bera (JB):            38433.777\n",
      "Skew:                           4.428   Prob(JB):                         0.00\n",
      "Kurtosis:                      21.730   Cond. No.                         7.43\n",
      "==============================================================================\n",
      "\n",
      "Notes:\n",
      "[1] Standard Errors assume that the covariance matrix of the errors is correctly specified.\n"
     ]
    }
   ],
   "source": [
    "x_train_sm = sm.add_constant(x_train[col])\n",
    "lm = sm.GLS(y_train, x_train_sm).fit()   \n",
    "print(lm.summary())"
   ]
  },
  {
   "cell_type": "code",
   "execution_count": 147,
   "metadata": {},
   "outputs": [
    {
     "data": {
      "text/html": [
       "<div>\n",
       "<style scoped>\n",
       "    .dataframe tbody tr th:only-of-type {\n",
       "        vertical-align: middle;\n",
       "    }\n",
       "\n",
       "    .dataframe tbody tr th {\n",
       "        vertical-align: top;\n",
       "    }\n",
       "\n",
       "    .dataframe thead th {\n",
       "        text-align: right;\n",
       "    }\n",
       "</style>\n",
       "<table border=\"1\" class=\"dataframe\">\n",
       "  <thead>\n",
       "    <tr style=\"text-align: right;\">\n",
       "      <th></th>\n",
       "      <th>Features</th>\n",
       "      <th>VIF</th>\n",
       "    </tr>\n",
       "  </thead>\n",
       "  <tbody>\n",
       "    <tr>\n",
       "      <th>5</th>\n",
       "      <td>is_ped</td>\n",
       "      <td>6.60</td>\n",
       "    </tr>\n",
       "    <tr>\n",
       "      <th>4</th>\n",
       "      <td>kid</td>\n",
       "      <td>6.57</td>\n",
       "    </tr>\n",
       "    <tr>\n",
       "      <th>3</th>\n",
       "      <td>pcp_lookback</td>\n",
       "      <td>1.44</td>\n",
       "    </tr>\n",
       "    <tr>\n",
       "      <th>2</th>\n",
       "      <td>fqhc</td>\n",
       "      <td>1.13</td>\n",
       "    </tr>\n",
       "    <tr>\n",
       "      <th>6</th>\n",
       "      <td>same_address</td>\n",
       "      <td>1.08</td>\n",
       "    </tr>\n",
       "    <tr>\n",
       "      <th>1</th>\n",
       "      <td>visit_count</td>\n",
       "      <td>1.06</td>\n",
       "    </tr>\n",
       "    <tr>\n",
       "      <th>0</th>\n",
       "      <td>distance</td>\n",
       "      <td>1.03</td>\n",
       "    </tr>\n",
       "  </tbody>\n",
       "</table>\n",
       "</div>"
      ],
      "text/plain": [
       "       Features   VIF\n",
       "5        is_ped  6.60\n",
       "4           kid  6.57\n",
       "3  pcp_lookback  1.44\n",
       "2          fqhc  1.13\n",
       "6  same_address  1.08\n",
       "1   visit_count  1.06\n",
       "0      distance  1.03"
      ]
     },
     "execution_count": 147,
     "metadata": {},
     "output_type": "execute_result"
    }
   ],
   "source": [
    "vif = pd.DataFrame()\n",
    "vif['Features'] = x_train[col].columns\n",
    "vif['VIF'] = [variance_inflation_factor(x_train[col].values, i) for i in range(x_train[col].shape[1])]\n",
    "vif['VIF'] = round(vif['VIF'], 2)\n",
    "vif = vif.sort_values(by = \"VIF\", ascending = False)\n",
    "vif"
   ]
  },
  {
   "cell_type": "markdown",
   "metadata": {},
   "source": [
    "All the p-values of above features are <=0.05"
   ]
  },
  {
   "cell_type": "code",
   "execution_count": 148,
   "metadata": {},
   "outputs": [
    {
     "data": {
      "text/plain": [
       "1221    0.023655\n",
       "649     0.045526\n",
       "1661    0.014806\n",
       "2389    0.001732\n",
       "3062    0.053364\n",
       "1362   -0.006181\n",
       "485     0.074106\n",
       "1700    0.020592\n",
       "2918    0.086432\n",
       "1898    0.124650\n",
       "dtype: float64"
      ]
     },
     "execution_count": 148,
     "metadata": {},
     "output_type": "execute_result"
    }
   ],
   "source": [
    "y_train_pred = lm.predict(x_train_sm)\n",
    "y_train_pred[:10]"
   ]
  },
  {
   "cell_type": "markdown",
   "metadata": {},
   "source": [
    "#### creating a data frame with the actual churn flag and the predicted probabilities"
   ]
  },
  {
   "cell_type": "code",
   "execution_count": 149,
   "metadata": {},
   "outputs": [
    {
     "data": {
      "text/html": [
       "<div>\n",
       "<style scoped>\n",
       "    .dataframe tbody tr th:only-of-type {\n",
       "        vertical-align: middle;\n",
       "    }\n",
       "\n",
       "    .dataframe tbody tr th {\n",
       "        vertical-align: top;\n",
       "    }\n",
       "\n",
       "    .dataframe thead th {\n",
       "        text-align: right;\n",
       "    }\n",
       "</style>\n",
       "<table border=\"1\" class=\"dataframe\">\n",
       "  <thead>\n",
       "    <tr style=\"text-align: right;\">\n",
       "      <th></th>\n",
       "      <th>outcome</th>\n",
       "      <th>outcome_prob</th>\n",
       "    </tr>\n",
       "  </thead>\n",
       "  <tbody>\n",
       "    <tr>\n",
       "      <th>1221</th>\n",
       "      <td>1</td>\n",
       "      <td>0.023655</td>\n",
       "    </tr>\n",
       "    <tr>\n",
       "      <th>649</th>\n",
       "      <td>1</td>\n",
       "      <td>0.045526</td>\n",
       "    </tr>\n",
       "    <tr>\n",
       "      <th>1661</th>\n",
       "      <td>0</td>\n",
       "      <td>0.014806</td>\n",
       "    </tr>\n",
       "    <tr>\n",
       "      <th>2389</th>\n",
       "      <td>0</td>\n",
       "      <td>0.001732</td>\n",
       "    </tr>\n",
       "    <tr>\n",
       "      <th>3062</th>\n",
       "      <td>0</td>\n",
       "      <td>0.053364</td>\n",
       "    </tr>\n",
       "  </tbody>\n",
       "</table>\n",
       "</div>"
      ],
      "text/plain": [
       "      outcome  outcome_prob\n",
       "1221        1      0.023655\n",
       "649         1      0.045526\n",
       "1661        0      0.014806\n",
       "2389        0      0.001732\n",
       "3062        0      0.053364"
      ]
     },
     "execution_count": 149,
     "metadata": {},
     "output_type": "execute_result"
    }
   ],
   "source": [
    "y_train_pred_final = pd.DataFrame({'outcome': y_train.values, 'outcome_prob': y_train_pred})\n",
    "y_train_pred_final.head()"
   ]
  },
  {
   "cell_type": "code",
   "execution_count": 150,
   "metadata": {},
   "outputs": [
    {
     "data": {
      "text/html": [
       "<div>\n",
       "<style scoped>\n",
       "    .dataframe tbody tr th:only-of-type {\n",
       "        vertical-align: middle;\n",
       "    }\n",
       "\n",
       "    .dataframe tbody tr th {\n",
       "        vertical-align: top;\n",
       "    }\n",
       "\n",
       "    .dataframe thead th {\n",
       "        text-align: right;\n",
       "    }\n",
       "</style>\n",
       "<table border=\"1\" class=\"dataframe\">\n",
       "  <thead>\n",
       "    <tr style=\"text-align: right;\">\n",
       "      <th></th>\n",
       "      <th>outcome</th>\n",
       "      <th>outcome_prob</th>\n",
       "      <th>predicted</th>\n",
       "    </tr>\n",
       "  </thead>\n",
       "  <tbody>\n",
       "    <tr>\n",
       "      <th>1221</th>\n",
       "      <td>1</td>\n",
       "      <td>0.023655</td>\n",
       "      <td>0</td>\n",
       "    </tr>\n",
       "    <tr>\n",
       "      <th>649</th>\n",
       "      <td>1</td>\n",
       "      <td>0.045526</td>\n",
       "      <td>0</td>\n",
       "    </tr>\n",
       "    <tr>\n",
       "      <th>1661</th>\n",
       "      <td>0</td>\n",
       "      <td>0.014806</td>\n",
       "      <td>0</td>\n",
       "    </tr>\n",
       "    <tr>\n",
       "      <th>2389</th>\n",
       "      <td>0</td>\n",
       "      <td>0.001732</td>\n",
       "      <td>0</td>\n",
       "    </tr>\n",
       "    <tr>\n",
       "      <th>3062</th>\n",
       "      <td>0</td>\n",
       "      <td>0.053364</td>\n",
       "      <td>0</td>\n",
       "    </tr>\n",
       "  </tbody>\n",
       "</table>\n",
       "</div>"
      ],
      "text/plain": [
       "      outcome  outcome_prob  predicted\n",
       "1221        1      0.023655          0\n",
       "649         1      0.045526          0\n",
       "1661        0      0.014806          0\n",
       "2389        0      0.001732          0\n",
       "3062        0      0.053364          0"
      ]
     },
     "execution_count": 150,
     "metadata": {},
     "output_type": "execute_result"
    }
   ],
   "source": [
    "y_train_pred_final['predicted'] = y_train_pred_final.outcome_prob.map(lambda x: 1 if x>0.5 else 0)\n",
    "y_train_pred_final.head()"
   ]
  },
  {
   "cell_type": "code",
   "execution_count": 151,
   "metadata": {},
   "outputs": [
    {
     "data": {
      "text/html": [
       "<div>\n",
       "<style scoped>\n",
       "    .dataframe tbody tr th:only-of-type {\n",
       "        vertical-align: middle;\n",
       "    }\n",
       "\n",
       "    .dataframe tbody tr th {\n",
       "        vertical-align: top;\n",
       "    }\n",
       "\n",
       "    .dataframe thead th {\n",
       "        text-align: right;\n",
       "    }\n",
       "</style>\n",
       "<table border=\"1\" class=\"dataframe\">\n",
       "  <thead>\n",
       "    <tr style=\"text-align: right;\">\n",
       "      <th></th>\n",
       "      <th>outcome</th>\n",
       "      <th>outcome_prob</th>\n",
       "      <th>predicted</th>\n",
       "      <th>testindex</th>\n",
       "    </tr>\n",
       "  </thead>\n",
       "  <tbody>\n",
       "    <tr>\n",
       "      <th>1221</th>\n",
       "      <td>1</td>\n",
       "      <td>0.023655</td>\n",
       "      <td>0</td>\n",
       "      <td>1221</td>\n",
       "    </tr>\n",
       "    <tr>\n",
       "      <th>649</th>\n",
       "      <td>1</td>\n",
       "      <td>0.045526</td>\n",
       "      <td>0</td>\n",
       "      <td>649</td>\n",
       "    </tr>\n",
       "    <tr>\n",
       "      <th>1661</th>\n",
       "      <td>0</td>\n",
       "      <td>0.014806</td>\n",
       "      <td>0</td>\n",
       "      <td>1661</td>\n",
       "    </tr>\n",
       "    <tr>\n",
       "      <th>2389</th>\n",
       "      <td>0</td>\n",
       "      <td>0.001732</td>\n",
       "      <td>0</td>\n",
       "      <td>2389</td>\n",
       "    </tr>\n",
       "    <tr>\n",
       "      <th>3062</th>\n",
       "      <td>0</td>\n",
       "      <td>0.053364</td>\n",
       "      <td>0</td>\n",
       "      <td>3062</td>\n",
       "    </tr>\n",
       "  </tbody>\n",
       "</table>\n",
       "</div>"
      ],
      "text/plain": [
       "      outcome  outcome_prob  predicted  testindex\n",
       "1221        1      0.023655          0       1221\n",
       "649         1      0.045526          0        649\n",
       "1661        0      0.014806          0       1661\n",
       "2389        0      0.001732          0       2389\n",
       "3062        0      0.053364          0       3062"
      ]
     },
     "execution_count": 151,
     "metadata": {},
     "output_type": "execute_result"
    }
   ],
   "source": [
    "y_train_pred_final['testindex'] = y_train.index\n",
    "y_train_pred_final.head()"
   ]
  },
  {
   "cell_type": "code",
   "execution_count": 152,
   "metadata": {},
   "outputs": [
    {
     "data": {
      "text/plain": [
       "array([[2064,    0],\n",
       "       [  85,    0]], dtype=int64)"
      ]
     },
     "execution_count": 152,
     "metadata": {},
     "output_type": "execute_result"
    }
   ],
   "source": [
    "#confusion matrix\n",
    "confusion = metrics.confusion_matrix(y_train_pred_final.outcome, y_train_pred_final.predicted)\n",
    "confusion"
   ]
  },
  {
   "cell_type": "code",
   "execution_count": 153,
   "metadata": {},
   "outputs": [
    {
     "name": "stdout",
     "output_type": "stream",
     "text": [
      "Accuracy of the model:  0.9604467194043741\n"
     ]
    }
   ],
   "source": [
    "#lets check the accuracy of the model\n",
    "print(\"Accuracy of the model: \",metrics.accuracy_score(y_train_pred_final.outcome, y_train_pred_final.predicted))"
   ]
  },
  {
   "cell_type": "code",
   "execution_count": 154,
   "metadata": {},
   "outputs": [],
   "source": [
    "# Metrics beyond simply accuracy\n",
    "\n",
    "TP = confusion[1,1]\n",
    "TN = confusion[0,0]\n",
    "FP = confusion[0,1]\n",
    "FN = confusion[1,0]\n"
   ]
  },
  {
   "cell_type": "code",
   "execution_count": 155,
   "metadata": {},
   "outputs": [
    {
     "data": {
      "text/plain": [
       "0.0"
      ]
     },
     "execution_count": 155,
     "metadata": {},
     "output_type": "execute_result"
    }
   ],
   "source": [
    "#lets check the Sensitivity of the our model\n",
    "TP/float(TP+FN)"
   ]
  },
  {
   "cell_type": "code",
   "execution_count": 156,
   "metadata": {},
   "outputs": [
    {
     "data": {
      "text/plain": [
       "1.0"
      ]
     },
     "execution_count": 156,
     "metadata": {},
     "output_type": "execute_result"
    }
   ],
   "source": [
    "#lets check the Specificity of the our model\n",
    "TN / float(TN+FP)"
   ]
  },
  {
   "cell_type": "markdown",
   "metadata": {},
   "source": [
    "## Plotting ROC curve"
   ]
  },
  {
   "cell_type": "markdown",
   "metadata": {},
   "source": [
    "An ROC curve demonstrates several things:\n",
    "\n",
    "- It shows the tradeoff between sensitivity and specificity (any increase in sensitivity will be accompanied by a decrease in specificity).\n",
    "- The closer the curve follows the left-hand border and then the top border of the ROC space, the more accurate the test.\n",
    "- The closer the curve comes to the 45-degree diagonal of the ROC space, the less accurate the test."
   ]
  },
  {
   "cell_type": "code",
   "execution_count": 157,
   "metadata": {},
   "outputs": [],
   "source": [
    "def draw_roc( actual, probs ):\n",
    "    fpr, tpr, thresholds = metrics.roc_curve( actual, probs,\n",
    "                                              drop_intermediate = False )\n",
    "    auc_score = metrics.roc_auc_score( actual, probs )\n",
    "    plt.figure(figsize=(5, 5))\n",
    "    plt.plot( fpr, tpr, label='ROC curve (area = %0.2f)' % auc_score )\n",
    "    plt.plot([0, 1], [0, 1], 'k--')\n",
    "    plt.xlim([0.0, 1.0])\n",
    "    plt.ylim([0.0, 1.05])\n",
    "    plt.xlabel('False Positive Rate or [1 - True Negative Rate]')\n",
    "    plt.ylabel('True Positive Rate')\n",
    "    plt.title('Receiver operating characteristic example')\n",
    "    plt.legend(loc=\"lower right\")\n",
    "    plt.show()\n",
    "\n",
    "    return None"
   ]
  },
  {
   "cell_type": "code",
   "execution_count": 158,
   "metadata": {},
   "outputs": [
    {
     "data": {
      "image/png": "[encoded data removed]",
      "text/plain": [
       "<Figure size 360x360 with 1 Axes>"
      ]
     },
     "metadata": {
      "needs_background": "light"
     },
     "output_type": "display_data"
    }
   ],
   "source": [
    "fpr, tpr, thresholds = metrics.roc_curve( y_train_pred_final.outcome, y_train_pred_final.outcome_prob, drop_intermediate = False )\n",
    "draw_roc(y_train_pred_final.outcome, y_train_pred_final.outcome_prob)"
   ]
  },
  {
   "cell_type": "markdown",
   "metadata": {},
   "source": [
    "## Finding optimal cutoff point"
   ]
  },
  {
   "cell_type": "code",
   "execution_count": 159,
   "metadata": {},
   "outputs": [
    {
     "data": {
      "text/html": [
       "<div>\n",
       "<style scoped>\n",
       "    .dataframe tbody tr th:only-of-type {\n",
       "        vertical-align: middle;\n",
       "    }\n",
       "\n",
       "    .dataframe tbody tr th {\n",
       "        vertical-align: top;\n",
       "    }\n",
       "\n",
       "    .dataframe thead th {\n",
       "        text-align: right;\n",
       "    }\n",
       "</style>\n",
       "<table border=\"1\" class=\"dataframe\">\n",
       "  <thead>\n",
       "    <tr style=\"text-align: right;\">\n",
       "      <th></th>\n",
       "      <th>outcome</th>\n",
       "      <th>outcome_prob</th>\n",
       "      <th>predicted</th>\n",
       "      <th>testindex</th>\n",
       "      <th>0.0</th>\n",
       "      <th>0.1</th>\n",
       "      <th>0.2</th>\n",
       "      <th>0.3</th>\n",
       "      <th>0.4</th>\n",
       "      <th>0.5</th>\n",
       "      <th>0.6</th>\n",
       "      <th>0.7</th>\n",
       "      <th>0.8</th>\n",
       "      <th>0.9</th>\n",
       "    </tr>\n",
       "  </thead>\n",
       "  <tbody>\n",
       "    <tr>\n",
       "      <th>1221</th>\n",
       "      <td>1</td>\n",
       "      <td>0.023655</td>\n",
       "      <td>0</td>\n",
       "      <td>1221</td>\n",
       "      <td>1</td>\n",
       "      <td>0</td>\n",
       "      <td>0</td>\n",
       "      <td>0</td>\n",
       "      <td>0</td>\n",
       "      <td>0</td>\n",
       "      <td>0</td>\n",
       "      <td>0</td>\n",
       "      <td>0</td>\n",
       "      <td>0</td>\n",
       "    </tr>\n",
       "    <tr>\n",
       "      <th>649</th>\n",
       "      <td>1</td>\n",
       "      <td>0.045526</td>\n",
       "      <td>0</td>\n",
       "      <td>649</td>\n",
       "      <td>1</td>\n",
       "      <td>0</td>\n",
       "      <td>0</td>\n",
       "      <td>0</td>\n",
       "      <td>0</td>\n",
       "      <td>0</td>\n",
       "      <td>0</td>\n",
       "      <td>0</td>\n",
       "      <td>0</td>\n",
       "      <td>0</td>\n",
       "    </tr>\n",
       "    <tr>\n",
       "      <th>1661</th>\n",
       "      <td>0</td>\n",
       "      <td>0.014806</td>\n",
       "      <td>0</td>\n",
       "      <td>1661</td>\n",
       "      <td>1</td>\n",
       "      <td>0</td>\n",
       "      <td>0</td>\n",
       "      <td>0</td>\n",
       "      <td>0</td>\n",
       "      <td>0</td>\n",
       "      <td>0</td>\n",
       "      <td>0</td>\n",
       "      <td>0</td>\n",
       "      <td>0</td>\n",
       "    </tr>\n",
       "    <tr>\n",
       "      <th>2389</th>\n",
       "      <td>0</td>\n",
       "      <td>0.001732</td>\n",
       "      <td>0</td>\n",
       "      <td>2389</td>\n",
       "      <td>1</td>\n",
       "      <td>0</td>\n",
       "      <td>0</td>\n",
       "      <td>0</td>\n",
       "      <td>0</td>\n",
       "      <td>0</td>\n",
       "      <td>0</td>\n",
       "      <td>0</td>\n",
       "      <td>0</td>\n",
       "      <td>0</td>\n",
       "    </tr>\n",
       "    <tr>\n",
       "      <th>3062</th>\n",
       "      <td>0</td>\n",
       "      <td>0.053364</td>\n",
       "      <td>0</td>\n",
       "      <td>3062</td>\n",
       "      <td>1</td>\n",
       "      <td>0</td>\n",
       "      <td>0</td>\n",
       "      <td>0</td>\n",
       "      <td>0</td>\n",
       "      <td>0</td>\n",
       "      <td>0</td>\n",
       "      <td>0</td>\n",
       "      <td>0</td>\n",
       "      <td>0</td>\n",
       "    </tr>\n",
       "  </tbody>\n",
       "</table>\n",
       "</div>"
      ],
      "text/plain": [
       "      outcome  outcome_prob  predicted  testindex  0.0  0.1  0.2  0.3  0.4  \\\n",
       "1221        1      0.023655          0       1221    1    0    0    0    0   \n",
       "649         1      0.045526          0        649    1    0    0    0    0   \n",
       "1661        0      0.014806          0       1661    1    0    0    0    0   \n",
       "2389        0      0.001732          0       2389    1    0    0    0    0   \n",
       "3062        0      0.053364          0       3062    1    0    0    0    0   \n",
       "\n",
       "      0.5  0.6  0.7  0.8  0.9  \n",
       "1221    0    0    0    0    0  \n",
       "649     0    0    0    0    0  \n",
       "1661    0    0    0    0    0  \n",
       "2389    0    0    0    0    0  \n",
       "3062    0    0    0    0    0  "
      ]
     },
     "execution_count": 159,
     "metadata": {},
     "output_type": "execute_result"
    }
   ],
   "source": [
    "#lets create columsn with diffrent probability cutoffs\n",
    "numbers = [float(i)/10 for i in range(10)]\n",
    "for i in numbers:\n",
    "    y_train_pred_final[i] = y_train_pred_final.outcome_prob.map(lambda x: 1 if x>i else 0)\n",
    "y_train_pred_final.head()"
   ]
  },
  {
   "cell_type": "code",
   "execution_count": 160,
   "metadata": {},
   "outputs": [
    {
     "name": "stdout",
     "output_type": "stream",
     "text": [
      "     prob  accuracy     sensi     speci\n",
      "0.0   0.0  0.194044  0.964706  0.162306\n",
      "0.1   0.1  0.916240  0.329412  0.940407\n",
      "0.2   0.2  0.958585  0.011765  0.997578\n",
      "0.3   0.3  0.960447  0.000000  1.000000\n",
      "0.4   0.4  0.960447  0.000000  1.000000\n",
      "0.5   0.5  0.960447  0.000000  1.000000\n",
      "0.6   0.6  0.960447  0.000000  1.000000\n",
      "0.7   0.7  0.960447  0.000000  1.000000\n",
      "0.8   0.8  0.960447  0.000000  1.000000\n",
      "0.9   0.9  0.960447  0.000000  1.000000\n"
     ]
    }
   ],
   "source": [
    "# Now let's calculate accuracy sensitivity and specificity for various probability cutoffs.\n",
    "cutoff_df = pd.DataFrame( columns = ['prob','accuracy','sensi','speci'])\n",
    "num = [float(i)/10 for i in range(10)]\n",
    "for i in num:\n",
    "    cm1 = metrics.confusion_matrix(y_train_pred_final.outcome, y_train_pred_final[i] )\n",
    "    total1=sum(sum(cm1))\n",
    "    accuracy = (cm1[0,0]+cm1[1,1])/total1\n",
    "    \n",
    "    speci = cm1[0,0]/(cm1[0,0]+cm1[0,1])\n",
    "    sensi = cm1[1,1]/(cm1[1,0]+cm1[1,1])\n",
    "    cutoff_df.loc[i] =[ i ,accuracy,sensi,speci]\n",
    "print(cutoff_df)"
   ]
  },
  {
   "cell_type": "code",
   "execution_count": 161,
   "metadata": {},
   "outputs": [
    {
     "data": {
      "image/png": "[encoded data removed]",
      "text/plain": [
       "<Figure size 432x288 with 1 Axes>"
      ]
     },
     "metadata": {
      "needs_background": "light"
     },
     "output_type": "display_data"
    }
   ],
   "source": [
    "# Let's plot accuracy sensitivity and specificity for various probabilities.\n",
    "cutoff_df.plot.line(x='prob', y=['accuracy','sensi','speci'])\n",
    "plt.show()"
   ]
  },
  {
   "cell_type": "code",
   "execution_count": 162,
   "metadata": {},
   "outputs": [
    {
     "data": {
      "text/html": [
       "<div>\n",
       "<style scoped>\n",
       "    .dataframe tbody tr th:only-of-type {\n",
       "        vertical-align: middle;\n",
       "    }\n",
       "\n",
       "    .dataframe tbody tr th {\n",
       "        vertical-align: top;\n",
       "    }\n",
       "\n",
       "    .dataframe thead th {\n",
       "        text-align: right;\n",
       "    }\n",
       "</style>\n",
       "<table border=\"1\" class=\"dataframe\">\n",
       "  <thead>\n",
       "    <tr style=\"text-align: right;\">\n",
       "      <th></th>\n",
       "      <th>outcome</th>\n",
       "      <th>outcome_prob</th>\n",
       "      <th>predicted</th>\n",
       "      <th>testindex</th>\n",
       "      <th>0.0</th>\n",
       "      <th>0.1</th>\n",
       "      <th>0.2</th>\n",
       "      <th>0.3</th>\n",
       "      <th>0.4</th>\n",
       "      <th>0.5</th>\n",
       "      <th>0.6</th>\n",
       "      <th>0.7</th>\n",
       "      <th>0.8</th>\n",
       "      <th>0.9</th>\n",
       "      <th>final_predicted</th>\n",
       "    </tr>\n",
       "  </thead>\n",
       "  <tbody>\n",
       "    <tr>\n",
       "      <th>1221</th>\n",
       "      <td>1</td>\n",
       "      <td>0.023655</td>\n",
       "      <td>0</td>\n",
       "      <td>1221</td>\n",
       "      <td>1</td>\n",
       "      <td>0</td>\n",
       "      <td>0</td>\n",
       "      <td>0</td>\n",
       "      <td>0</td>\n",
       "      <td>0</td>\n",
       "      <td>0</td>\n",
       "      <td>0</td>\n",
       "      <td>0</td>\n",
       "      <td>0</td>\n",
       "      <td>0</td>\n",
       "    </tr>\n",
       "    <tr>\n",
       "      <th>649</th>\n",
       "      <td>1</td>\n",
       "      <td>0.045526</td>\n",
       "      <td>0</td>\n",
       "      <td>649</td>\n",
       "      <td>1</td>\n",
       "      <td>0</td>\n",
       "      <td>0</td>\n",
       "      <td>0</td>\n",
       "      <td>0</td>\n",
       "      <td>0</td>\n",
       "      <td>0</td>\n",
       "      <td>0</td>\n",
       "      <td>0</td>\n",
       "      <td>0</td>\n",
       "      <td>0</td>\n",
       "    </tr>\n",
       "    <tr>\n",
       "      <th>1661</th>\n",
       "      <td>0</td>\n",
       "      <td>0.014806</td>\n",
       "      <td>0</td>\n",
       "      <td>1661</td>\n",
       "      <td>1</td>\n",
       "      <td>0</td>\n",
       "      <td>0</td>\n",
       "      <td>0</td>\n",
       "      <td>0</td>\n",
       "      <td>0</td>\n",
       "      <td>0</td>\n",
       "      <td>0</td>\n",
       "      <td>0</td>\n",
       "      <td>0</td>\n",
       "      <td>0</td>\n",
       "    </tr>\n",
       "    <tr>\n",
       "      <th>2389</th>\n",
       "      <td>0</td>\n",
       "      <td>0.001732</td>\n",
       "      <td>0</td>\n",
       "      <td>2389</td>\n",
       "      <td>1</td>\n",
       "      <td>0</td>\n",
       "      <td>0</td>\n",
       "      <td>0</td>\n",
       "      <td>0</td>\n",
       "      <td>0</td>\n",
       "      <td>0</td>\n",
       "      <td>0</td>\n",
       "      <td>0</td>\n",
       "      <td>0</td>\n",
       "      <td>0</td>\n",
       "    </tr>\n",
       "    <tr>\n",
       "      <th>3062</th>\n",
       "      <td>0</td>\n",
       "      <td>0.053364</td>\n",
       "      <td>0</td>\n",
       "      <td>3062</td>\n",
       "      <td>1</td>\n",
       "      <td>0</td>\n",
       "      <td>0</td>\n",
       "      <td>0</td>\n",
       "      <td>0</td>\n",
       "      <td>0</td>\n",
       "      <td>0</td>\n",
       "      <td>0</td>\n",
       "      <td>0</td>\n",
       "      <td>0</td>\n",
       "      <td>0</td>\n",
       "    </tr>\n",
       "  </tbody>\n",
       "</table>\n",
       "</div>"
      ],
      "text/plain": [
       "      outcome  outcome_prob  predicted  testindex  0.0  0.1  0.2  0.3  0.4  \\\n",
       "1221        1      0.023655          0       1221    1    0    0    0    0   \n",
       "649         1      0.045526          0        649    1    0    0    0    0   \n",
       "1661        0      0.014806          0       1661    1    0    0    0    0   \n",
       "2389        0      0.001732          0       2389    1    0    0    0    0   \n",
       "3062        0      0.053364          0       3062    1    0    0    0    0   \n",
       "\n",
       "      0.5  0.6  0.7  0.8  0.9  final_predicted  \n",
       "1221    0    0    0    0    0                0  \n",
       "649     0    0    0    0    0                0  \n",
       "1661    0    0    0    0    0                0  \n",
       "2389    0    0    0    0    0                0  \n",
       "3062    0    0    0    0    0                0  "
      ]
     },
     "execution_count": 162,
     "metadata": {},
     "output_type": "execute_result"
    }
   ],
   "source": [
    "y_train_pred_final['final_predicted'] = y_train_pred_final.outcome_prob.map(lambda x: 1 if x>0.1 else 0)\n",
    "y_train_pred_final.head()"
   ]
  },
  {
   "cell_type": "code",
   "execution_count": 163,
   "metadata": {},
   "outputs": [
    {
     "data": {
      "text/plain": [
       "array([[1941,  123],\n",
       "       [  57,   28]], dtype=int64)"
      ]
     },
     "execution_count": 163,
     "metadata": {},
     "output_type": "execute_result"
    }
   ],
   "source": [
    "#confusion matrix\n",
    "confusion1 = metrics.confusion_matrix(y_train_pred_final.outcome, y_train_pred_final.final_predicted)\n",
    "confusion1"
   ]
  },
  {
   "cell_type": "code",
   "execution_count": 164,
   "metadata": {},
   "outputs": [
    {
     "name": "stdout",
     "output_type": "stream",
     "text": [
      "Accuracy of the model:  0.9162401116798511\n"
     ]
    }
   ],
   "source": [
    "#lets check the accuracy of the model\n",
    "print(\"Accuracy of the model: \",metrics.accuracy_score(y_train_pred_final.outcome, y_train_pred_final.final_predicted))"
   ]
  },
  {
   "cell_type": "markdown",
   "metadata": {},
   "source": [
    "## Making predictions on the test set"
   ]
  },
  {
   "cell_type": "code",
   "execution_count": 165,
   "metadata": {},
   "outputs": [
    {
     "name": "stderr",
     "output_type": "stream",
     "text": [
      "<ipython-input-165-842a1b0df940>:1: SettingWithCopyWarning: \n",
      "A value is trying to be set on a copy of a slice from a DataFrame.\n",
      "Try using .loc[row_indexer,col_indexer] = value instead\n",
      "\n",
      "See the caveats in the documentation: https://pandas.pydata.org/pandas-docs/stable/user_guide/indexing.html#returning-a-view-versus-a-copy\n",
      "  x_test[['distance','visit_count','tier']] = scaller.fit_transform(x_test[['distance','visit_count','tier']])\n",
      "C:\\Users\\rafisha.OT\\AppData\\Roaming\\Python\\Python38\\site-packages\\pandas\\core\\indexing.py:1736: SettingWithCopyWarning: \n",
      "A value is trying to be set on a copy of a slice from a DataFrame.\n",
      "Try using .loc[row_indexer,col_indexer] = value instead\n",
      "\n",
      "See the caveats in the documentation: https://pandas.pydata.org/pandas-docs/stable/user_guide/indexing.html#returning-a-view-versus-a-copy\n",
      "  isetter(loc, value[:, i].tolist())\n"
     ]
    },
    {
     "data": {
      "text/html": [
       "<div>\n",
       "<style scoped>\n",
       "    .dataframe tbody tr th:only-of-type {\n",
       "        vertical-align: middle;\n",
       "    }\n",
       "\n",
       "    .dataframe tbody tr th {\n",
       "        vertical-align: top;\n",
       "    }\n",
       "\n",
       "    .dataframe thead th {\n",
       "        text-align: right;\n",
       "    }\n",
       "</style>\n",
       "<table border=\"1\" class=\"dataframe\">\n",
       "  <thead>\n",
       "    <tr style=\"text-align: right;\">\n",
       "      <th></th>\n",
       "      <th>distance</th>\n",
       "      <th>visit_count</th>\n",
       "      <th>tier</th>\n",
       "      <th>fqhc</th>\n",
       "      <th>pcp_lookback</th>\n",
       "      <th>family_assignment</th>\n",
       "      <th>kid</th>\n",
       "      <th>is_ped</th>\n",
       "      <th>same_gender</th>\n",
       "      <th>same_language</th>\n",
       "      <th>same_address</th>\n",
       "    </tr>\n",
       "  </thead>\n",
       "  <tbody>\n",
       "    <tr>\n",
       "      <th>2400</th>\n",
       "      <td>-0.393889</td>\n",
       "      <td>-0.389354</td>\n",
       "      <td>2.140145</td>\n",
       "      <td>0</td>\n",
       "      <td>0</td>\n",
       "      <td>1</td>\n",
       "      <td>0</td>\n",
       "      <td>0</td>\n",
       "      <td>0</td>\n",
       "      <td>0</td>\n",
       "      <td>0</td>\n",
       "    </tr>\n",
       "    <tr>\n",
       "      <th>2406</th>\n",
       "      <td>-0.425299</td>\n",
       "      <td>-0.389354</td>\n",
       "      <td>-0.859967</td>\n",
       "      <td>0</td>\n",
       "      <td>0</td>\n",
       "      <td>1</td>\n",
       "      <td>0</td>\n",
       "      <td>0</td>\n",
       "      <td>1</td>\n",
       "      <td>0</td>\n",
       "      <td>0</td>\n",
       "    </tr>\n",
       "    <tr>\n",
       "      <th>243</th>\n",
       "      <td>-0.419386</td>\n",
       "      <td>5.043900</td>\n",
       "      <td>2.140145</td>\n",
       "      <td>0</td>\n",
       "      <td>0</td>\n",
       "      <td>1</td>\n",
       "      <td>1</td>\n",
       "      <td>1</td>\n",
       "      <td>1</td>\n",
       "      <td>0</td>\n",
       "      <td>0</td>\n",
       "    </tr>\n",
       "    <tr>\n",
       "      <th>595</th>\n",
       "      <td>-0.531325</td>\n",
       "      <td>-0.389354</td>\n",
       "      <td>-0.859967</td>\n",
       "      <td>1</td>\n",
       "      <td>1</td>\n",
       "      <td>0</td>\n",
       "      <td>0</td>\n",
       "      <td>0</td>\n",
       "      <td>0</td>\n",
       "      <td>0</td>\n",
       "      <td>0</td>\n",
       "    </tr>\n",
       "    <tr>\n",
       "      <th>1270</th>\n",
       "      <td>-0.409406</td>\n",
       "      <td>-0.389354</td>\n",
       "      <td>1.140107</td>\n",
       "      <td>0</td>\n",
       "      <td>1</td>\n",
       "      <td>0</td>\n",
       "      <td>1</td>\n",
       "      <td>1</td>\n",
       "      <td>0</td>\n",
       "      <td>0</td>\n",
       "      <td>1</td>\n",
       "    </tr>\n",
       "  </tbody>\n",
       "</table>\n",
       "</div>"
      ],
      "text/plain": [
       "      distance  visit_count      tier  fqhc  pcp_lookback  family_assignment  \\\n",
       "2400 -0.393889    -0.389354  2.140145     0             0                  1   \n",
       "2406 -0.425299    -0.389354 -0.859967     0             0                  1   \n",
       "243  -0.419386     5.043900  2.140145     0             0                  1   \n",
       "595  -0.531325    -0.389354 -0.859967     1             1                  0   \n",
       "1270 -0.409406    -0.389354  1.140107     0             1                  0   \n",
       "\n",
       "      kid  is_ped  same_gender  same_language  same_address  \n",
       "2400    0       0            0              0             0  \n",
       "2406    0       0            1              0             0  \n",
       "243     1       1            1              0             0  \n",
       "595     0       0            0              0             0  \n",
       "1270    1       1            0              0             1  "
      ]
     },
     "execution_count": 165,
     "metadata": {},
     "output_type": "execute_result"
    }
   ],
   "source": [
    "x_test[['distance','visit_count','tier']] = scaller.fit_transform(x_test[['distance','visit_count','tier']])\n",
    "x_test.head()"
   ]
  },
  {
   "cell_type": "code",
   "execution_count": 166,
   "metadata": {},
   "outputs": [
    {
     "data": {
      "text/plain": [
       "Index(['distance', 'visit_count', 'fqhc', 'pcp_lookback', 'kid', 'is_ped',\n",
       "       'same_address'],\n",
       "      dtype='object')"
      ]
     },
     "execution_count": 166,
     "metadata": {},
     "output_type": "execute_result"
    }
   ],
   "source": [
    "col"
   ]
  },
  {
   "cell_type": "code",
   "execution_count": 167,
   "metadata": {},
   "outputs": [
    {
     "data": {
      "text/plain": [
       "2400    0.045807\n",
       "2406    0.045114\n",
       "243     0.138957\n",
       "595    -0.037428\n",
       "1270    0.064151\n",
       "1892    0.059933\n",
       "29      0.044066\n",
       "2878    0.059022\n",
       "1615    0.045556\n",
       "3097    0.039456\n",
       "dtype: float64"
      ]
     },
     "execution_count": 167,
     "metadata": {},
     "output_type": "execute_result"
    }
   ],
   "source": [
    "x_test_sm = sm.add_constant(x_test[col])\n",
    "y_test_pred = lm.predict(x_test_sm)\n",
    "y_test_pred[:10]"
   ]
  },
  {
   "cell_type": "markdown",
   "metadata": {},
   "source": [
    "### creating a data frame with the actual churn flag and the predicted probabilities"
   ]
  },
  {
   "cell_type": "code",
   "execution_count": 168,
   "metadata": {},
   "outputs": [
    {
     "data": {
      "text/html": [
       "<div>\n",
       "<style scoped>\n",
       "    .dataframe tbody tr th:only-of-type {\n",
       "        vertical-align: middle;\n",
       "    }\n",
       "\n",
       "    .dataframe tbody tr th {\n",
       "        vertical-align: top;\n",
       "    }\n",
       "\n",
       "    .dataframe thead th {\n",
       "        text-align: right;\n",
       "    }\n",
       "</style>\n",
       "<table border=\"1\" class=\"dataframe\">\n",
       "  <thead>\n",
       "    <tr style=\"text-align: right;\">\n",
       "      <th></th>\n",
       "      <th>outcome</th>\n",
       "      <th>outcome_prob</th>\n",
       "    </tr>\n",
       "  </thead>\n",
       "  <tbody>\n",
       "    <tr>\n",
       "      <th>2400</th>\n",
       "      <td>0</td>\n",
       "      <td>0.045807</td>\n",
       "    </tr>\n",
       "    <tr>\n",
       "      <th>2406</th>\n",
       "      <td>0</td>\n",
       "      <td>0.045114</td>\n",
       "    </tr>\n",
       "    <tr>\n",
       "      <th>243</th>\n",
       "      <td>0</td>\n",
       "      <td>0.138957</td>\n",
       "    </tr>\n",
       "    <tr>\n",
       "      <th>595</th>\n",
       "      <td>0</td>\n",
       "      <td>-0.037428</td>\n",
       "    </tr>\n",
       "    <tr>\n",
       "      <th>1270</th>\n",
       "      <td>0</td>\n",
       "      <td>0.064151</td>\n",
       "    </tr>\n",
       "  </tbody>\n",
       "</table>\n",
       "</div>"
      ],
      "text/plain": [
       "      outcome  outcome_prob\n",
       "2400        0      0.045807\n",
       "2406        0      0.045114\n",
       "243         0      0.138957\n",
       "595         0     -0.037428\n",
       "1270        0      0.064151"
      ]
     },
     "execution_count": 168,
     "metadata": {},
     "output_type": "execute_result"
    }
   ],
   "source": [
    "y_test_pred_final = pd.DataFrame({'outcome': y_test.values, 'outcome_prob': y_test_pred})\n",
    "y_test_pred_final.head()"
   ]
  },
  {
   "cell_type": "code",
   "execution_count": 169,
   "metadata": {},
   "outputs": [
    {
     "data": {
      "text/html": [
       "<div>\n",
       "<style scoped>\n",
       "    .dataframe tbody tr th:only-of-type {\n",
       "        vertical-align: middle;\n",
       "    }\n",
       "\n",
       "    .dataframe tbody tr th {\n",
       "        vertical-align: top;\n",
       "    }\n",
       "\n",
       "    .dataframe thead th {\n",
       "        text-align: right;\n",
       "    }\n",
       "</style>\n",
       "<table border=\"1\" class=\"dataframe\">\n",
       "  <thead>\n",
       "    <tr style=\"text-align: right;\">\n",
       "      <th></th>\n",
       "      <th>outcome</th>\n",
       "      <th>outcome_prob</th>\n",
       "      <th>predicted</th>\n",
       "    </tr>\n",
       "  </thead>\n",
       "  <tbody>\n",
       "    <tr>\n",
       "      <th>2400</th>\n",
       "      <td>0</td>\n",
       "      <td>0.045807</td>\n",
       "      <td>0</td>\n",
       "    </tr>\n",
       "    <tr>\n",
       "      <th>2406</th>\n",
       "      <td>0</td>\n",
       "      <td>0.045114</td>\n",
       "      <td>0</td>\n",
       "    </tr>\n",
       "    <tr>\n",
       "      <th>243</th>\n",
       "      <td>0</td>\n",
       "      <td>0.138957</td>\n",
       "      <td>0</td>\n",
       "    </tr>\n",
       "    <tr>\n",
       "      <th>595</th>\n",
       "      <td>0</td>\n",
       "      <td>-0.037428</td>\n",
       "      <td>0</td>\n",
       "    </tr>\n",
       "    <tr>\n",
       "      <th>1270</th>\n",
       "      <td>0</td>\n",
       "      <td>0.064151</td>\n",
       "      <td>0</td>\n",
       "    </tr>\n",
       "  </tbody>\n",
       "</table>\n",
       "</div>"
      ],
      "text/plain": [
       "      outcome  outcome_prob  predicted\n",
       "2400        0      0.045807          0\n",
       "2406        0      0.045114          0\n",
       "243         0      0.138957          0\n",
       "595         0     -0.037428          0\n",
       "1270        0      0.064151          0"
      ]
     },
     "execution_count": 169,
     "metadata": {},
     "output_type": "execute_result"
    }
   ],
   "source": [
    "y_test_pred_final['predicted'] = y_test_pred_final.outcome_prob.map(lambda x: 1 if x>0.5 else 0)\n",
    "y_test_pred_final.head()"
   ]
  },
  {
   "cell_type": "code",
   "execution_count": 170,
   "metadata": {},
   "outputs": [
    {
     "data": {
      "text/html": [
       "<div>\n",
       "<style scoped>\n",
       "    .dataframe tbody tr th:only-of-type {\n",
       "        vertical-align: middle;\n",
       "    }\n",
       "\n",
       "    .dataframe tbody tr th {\n",
       "        vertical-align: top;\n",
       "    }\n",
       "\n",
       "    .dataframe thead th {\n",
       "        text-align: right;\n",
       "    }\n",
       "</style>\n",
       "<table border=\"1\" class=\"dataframe\">\n",
       "  <thead>\n",
       "    <tr style=\"text-align: right;\">\n",
       "      <th></th>\n",
       "      <th>outcome</th>\n",
       "      <th>outcome_prob</th>\n",
       "      <th>predicted</th>\n",
       "      <th>testindex</th>\n",
       "    </tr>\n",
       "  </thead>\n",
       "  <tbody>\n",
       "    <tr>\n",
       "      <th>2400</th>\n",
       "      <td>0</td>\n",
       "      <td>0.045807</td>\n",
       "      <td>0</td>\n",
       "      <td>2400</td>\n",
       "    </tr>\n",
       "    <tr>\n",
       "      <th>2406</th>\n",
       "      <td>0</td>\n",
       "      <td>0.045114</td>\n",
       "      <td>0</td>\n",
       "      <td>2406</td>\n",
       "    </tr>\n",
       "    <tr>\n",
       "      <th>243</th>\n",
       "      <td>0</td>\n",
       "      <td>0.138957</td>\n",
       "      <td>0</td>\n",
       "      <td>243</td>\n",
       "    </tr>\n",
       "    <tr>\n",
       "      <th>595</th>\n",
       "      <td>0</td>\n",
       "      <td>-0.037428</td>\n",
       "      <td>0</td>\n",
       "      <td>595</td>\n",
       "    </tr>\n",
       "    <tr>\n",
       "      <th>1270</th>\n",
       "      <td>0</td>\n",
       "      <td>0.064151</td>\n",
       "      <td>0</td>\n",
       "      <td>1270</td>\n",
       "    </tr>\n",
       "  </tbody>\n",
       "</table>\n",
       "</div>"
      ],
      "text/plain": [
       "      outcome  outcome_prob  predicted  testindex\n",
       "2400        0      0.045807          0       2400\n",
       "2406        0      0.045114          0       2406\n",
       "243         0      0.138957          0        243\n",
       "595         0     -0.037428          0        595\n",
       "1270        0      0.064151          0       1270"
      ]
     },
     "execution_count": 170,
     "metadata": {},
     "output_type": "execute_result"
    }
   ],
   "source": [
    "y_test_pred_final['testindex'] = y_test.index\n",
    "y_test_pred_final.head()"
   ]
  },
  {
   "cell_type": "code",
   "execution_count": 171,
   "metadata": {},
   "outputs": [
    {
     "data": {
      "text/plain": [
       "0.9609120521172638"
      ]
     },
     "execution_count": 171,
     "metadata": {},
     "output_type": "execute_result"
    }
   ],
   "source": [
    "# Let's check the overall accuracy.\n",
    "metrics.accuracy_score(y_test_pred_final.outcome, y_test_pred_final.predicted)"
   ]
  },
  {
   "cell_type": "code",
   "execution_count": 172,
   "metadata": {},
   "outputs": [],
   "source": [
    "# Metrics beyond simply accuracy\n",
    "#confusion matrix\n",
    "confusion1 = metrics.confusion_matrix(y_test_pred_final.outcome, y_test_pred_final.predicted)\n",
    "\n",
    "TP = confusion1[1,1]\n",
    "TN = confusion1[0,0]\n",
    "FP = confusion1[0,1]\n",
    "FN = confusion1[1,0]\n"
   ]
  },
  {
   "cell_type": "code",
   "execution_count": 173,
   "metadata": {},
   "outputs": [
    {
     "data": {
      "text/html": [
       "<div>\n",
       "<style scoped>\n",
       "    .dataframe tbody tr th:only-of-type {\n",
       "        vertical-align: middle;\n",
       "    }\n",
       "\n",
       "    .dataframe tbody tr th {\n",
       "        vertical-align: top;\n",
       "    }\n",
       "\n",
       "    .dataframe thead th {\n",
       "        text-align: right;\n",
       "    }\n",
       "</style>\n",
       "<table border=\"1\" class=\"dataframe\">\n",
       "  <thead>\n",
       "    <tr style=\"text-align: right;\">\n",
       "      <th></th>\n",
       "      <th>outcome</th>\n",
       "      <th>outcome_prob</th>\n",
       "      <th>predicted</th>\n",
       "      <th>testindex</th>\n",
       "      <th>final_predicted</th>\n",
       "    </tr>\n",
       "  </thead>\n",
       "  <tbody>\n",
       "    <tr>\n",
       "      <th>2400</th>\n",
       "      <td>0</td>\n",
       "      <td>0.045807</td>\n",
       "      <td>0</td>\n",
       "      <td>2400</td>\n",
       "      <td>0</td>\n",
       "    </tr>\n",
       "    <tr>\n",
       "      <th>2406</th>\n",
       "      <td>0</td>\n",
       "      <td>0.045114</td>\n",
       "      <td>0</td>\n",
       "      <td>2406</td>\n",
       "      <td>0</td>\n",
       "    </tr>\n",
       "    <tr>\n",
       "      <th>243</th>\n",
       "      <td>0</td>\n",
       "      <td>0.138957</td>\n",
       "      <td>0</td>\n",
       "      <td>243</td>\n",
       "      <td>1</td>\n",
       "    </tr>\n",
       "    <tr>\n",
       "      <th>595</th>\n",
       "      <td>0</td>\n",
       "      <td>-0.037428</td>\n",
       "      <td>0</td>\n",
       "      <td>595</td>\n",
       "      <td>0</td>\n",
       "    </tr>\n",
       "    <tr>\n",
       "      <th>1270</th>\n",
       "      <td>0</td>\n",
       "      <td>0.064151</td>\n",
       "      <td>0</td>\n",
       "      <td>1270</td>\n",
       "      <td>0</td>\n",
       "    </tr>\n",
       "  </tbody>\n",
       "</table>\n",
       "</div>"
      ],
      "text/plain": [
       "      outcome  outcome_prob  predicted  testindex  final_predicted\n",
       "2400        0      0.045807          0       2400                0\n",
       "2406        0      0.045114          0       2406                0\n",
       "243         0      0.138957          0        243                1\n",
       "595         0     -0.037428          0        595                0\n",
       "1270        0      0.064151          0       1270                0"
      ]
     },
     "execution_count": 173,
     "metadata": {},
     "output_type": "execute_result"
    }
   ],
   "source": [
    "y_test_pred_final['final_predicted'] = y_test_pred_final.outcome_prob.map(lambda x: 1 if x>0.1 else 0)\n",
    "y_test_pred_final.head()"
   ]
  },
  {
   "cell_type": "code",
   "execution_count": 174,
   "metadata": {},
   "outputs": [
    {
     "data": {
      "text/plain": [
       "0.9185667752442996"
      ]
     },
     "execution_count": 174,
     "metadata": {},
     "output_type": "execute_result"
    }
   ],
   "source": [
    "# Let's check the overall accuracy.\n",
    "metrics.accuracy_score(y_test_pred_final.outcome, y_test_pred_final.final_predicted)"
   ]
  },
  {
   "cell_type": "code",
   "execution_count": 175,
   "metadata": {},
   "outputs": [
    {
     "name": "stdout",
     "output_type": "stream",
     "text": [
      "Sensitivity : 0.0\n",
      "Specificity : 1.0\n"
     ]
    }
   ],
   "source": [
    "#confusion matrix\n",
    "confusion1 = metrics.confusion_matrix(y_test_pred_final.outcome, y_test_pred_final.predicted)\n",
    "\n",
    "TP = confusion1[1,1]\n",
    "TN = confusion1[0,0]\n",
    "FP = confusion1[0,1]\n",
    "FN = confusion1[1,0]\n",
    "\n",
    "#lets check the Sensitivity of the our model\n",
    "print(\"Sensitivity :\",TP/float(TP+FN))\n",
    "\n",
    "#lets check the Specificity of the our model\n",
    "print(\"Specificity :\",TN / float(TN+FP))"
   ]
  },
  {
   "cell_type": "markdown",
   "metadata": {},
   "source": [
    "Below are list of freatures to predict correct Churn\n",
    "\n",
    "* 0 - distance\n",
    "* 1 - visit_count\n",
    "* 2 - fqhc\n",
    "* 3 - pcp_lookback\n",
    "* 4 - kid\n",
    "* 5 - is_ped\n",
    "* 6 - same_address\n",
    "\n",
    "\n",
    "Accuracy of model on train data  with cut off values 0.5 is =0.960 \\\n",
    "Accuracy of model on train data with cut off values 0.1 is =0.918 \n",
    "\n",
    "Accuracy of model on test data  with cut off values 0.5 is =0.960\\\n",
    "Accuracy of model on test data with cut off values 0.1 is =0.918"
   ]
  },
  {
   "cell_type": "markdown",
   "metadata": {},
   "source": []
  }
 ],
 "metadata": {
  "kernelspec": {
   "display_name": "Python 3",
   "language": "python",
   "name": "python3"
  },
  "language_info": {
   "codemirror_mode": {
    "name": "ipython",
    "version": 3
   },
   "file_extension": ".py",
   "mimetype": "text/x-python",
   "name": "python",
   "nbconvert_exporter": "python",
   "pygments_lexer": "ipython3",
   "version": "3.8.5"
  }
 },
 "nbformat": 4,
 "nbformat_minor": 4
}
